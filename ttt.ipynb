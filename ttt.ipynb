{
 "cells": [
  {
   "cell_type": "code",
   "execution_count": 1,
   "metadata": {},
   "outputs": [],
   "source": [
    "data_prepath = \"../../data4dimensions/Prompts4dimensions/\"\n",
    "dimensions = ['action','color','scene','object_class','overall_consistency']"
   ]
  },
  {
   "cell_type": "code",
   "execution_count": 2,
   "metadata": {},
   "outputs": [
    {
     "name": "stdout",
     "output_type": "stream",
     "text": [
      "=====================================\n",
      "Action\n",
      "=====================================\n",
      "Color\n",
      "=====================================\n",
      "Scene\n",
      "Original:  Bar\n",
      "Repeats:  ['Bar', 'Barn']\n",
      "Original:  Sky\n",
      "Repeats:  ['Sky', 'Skyscraper']\n",
      "=====================================\n",
      "Object_class\n",
      "Original:  A car\n",
      "Repeats:  ['A car', 'A carrot']\n",
      "=====================================\n",
      "Overall_consistency\n",
      "Original:  A boat sailing leisurely along the seine river with the eiffel tower in background\n",
      "Repeats:  ['A boat sailing leisurely along the seine river with the eiffel tower in background by vincent van gogh', 'A boat sailing leisurely along the seine river with the eiffel tower in background']\n"
     ]
    }
   ],
   "source": [
    "for metric in dimensions:\n",
    "    print(\"=====================================\")\n",
    "\n",
    "    print(metric.capitalize())\n",
    "    with open(data_prepath + metric + '.txt', 'r') as f:\n",
    "        content = f.read()\n",
    "        # Split the content by lines\n",
    "        lines = content.split('\\n')\n",
    "    for prompt in lines:\n",
    "        re = []\n",
    "        for p in lines:\n",
    "            if p.lower().startswith(prompt.lower()):\n",
    "                re.append(p)\n",
    "        if len(re) > 1:\n",
    "            print(\"Original: \", prompt)\n",
    "            print(\"Repeats: \", re)"
   ]
  },
  {
   "cell_type": "code",
   "execution_count": 3,
   "metadata": {},
   "outputs": [],
   "source": [
    "# 5->3\n",
    "import json\n",
    "dimension = 'object_class'  \n",
    "models = ['cogvideox5b','kling','gen3','lavie','pika','show1','videocrafter2']\n",
    "path =\"./Human_anno/humananno_res/object_class_1.json\"\n",
    "with open(path,'r') as f:\n",
    "    data = json.load(f)\n",
    "for i in range(len(data[dimension].keys())):\n",
    "    for model in models:\n",
    "        if data[dimension][str(i+1)][model] == 0:\n",
    "            for j in range(i+1,len(data[dimension].keys())):\n",
    "                if data[dimension][str(j+1)][model] != 0:\n",
    "                    for k in range(i,j):\n",
    "                        data[dimension][str(k+1)][model] = data[dimension][str(j+1)][model]\n",
    "                        break\n",
    "                    break\n",
    "        else:\n",
    "            continue    \n",
    "with open(path,'w') as f:\n",
    "    json.dump(data,f,indent=4)"
   ]
  }
 ],
 "metadata": {
  "kernelspec": {
   "display_name": "base",
   "language": "python",
   "name": "python3"
  },
  "language_info": {
   "codemirror_mode": {
    "name": "ipython",
    "version": 3
   },
   "file_extension": ".py",
   "mimetype": "text/x-python",
   "name": "python",
   "nbconvert_exporter": "python",
   "pygments_lexer": "ipython3",
   "version": "3.9.19"
  }
 },
 "nbformat": 4,
 "nbformat_minor": 2
}
