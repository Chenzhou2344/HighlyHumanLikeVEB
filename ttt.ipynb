{
 "cells": [
  {
   "cell_type": "code",
   "execution_count": 1,
   "metadata": {},
   "outputs": [],
   "source": [
    "data_prepath = \"../../data4dimensions/Prompts4dimensions/\"\n",
    "dimensions = ['action','color','scene','object_class','overall_consistency']"
   ]
  },
  {
   "cell_type": "code",
   "execution_count": null,
   "metadata": {},
   "outputs": [],
   "source": [
    "import os\n",
    "import base64\n",
    "import cv2\n",
    "\n",
    "video = cv2.VideoCapture('D:\\AStudying\\AI\\Niii_1\\hopes\\data4dimensions\\action\\kling\\A person is hula hooping_0,mp4')\n",
    "\n",
    "\n",
    "total_frames = int(video.get(cv2.CAP_PROP_FRAME_COUNT))\n",
    "fps = video.get(cv2.CAP_PROP_FPS)\n",
    "frames_to_skip = int(fps/2)\n",
    "\n",
    "curr_frame=1\n",
    "end_frame = total_frames - 1\n",
    "# Loop through the video and extract frames at specified sampling rate\n",
    "while curr_frame < total_frames - 1:\n",
    "    video.set(cv2.CAP_PROP_POS_FRAMES, curr_frame)\n",
    "    success, frame = video.read()\n",
    "    if not success:\n",
    "        break\n",
    "\n",
    "\n",
    "    _, buffer = cv2.imencode(\".jpg\", frame)\n",
    "    base64Frames[key].append(base64.b64encode(buffer).decode(\"utf-8\"))\n",
    "    curr_frame += frames_to_skip\n",
    "\n",
    "video.set(cv2.CAP_PROP_POS_FRAMES, end_frame)\n",
    "success, frame = video.read()\n",
    "if not success:\n",
    "    break\n",
    "\n",
    "frame = cv2.resize(frame, None, fx=resize_fx, fy=resize_fy)\n",
    "\n",
    "_, buffer = cv2.imencode(\".jpg\", frame)\n",
    "base64Frames[key].append(base64.b64encode(buffer).decode(\"utf-8\"))\n",
    "\n",
    "\n",
    "video.release()\n",
    "\n",
    "\n",
    "return base64Frames"
   ]
  }
 ],
 "metadata": {
  "kernelspec": {
   "display_name": "base",
   "language": "python",
   "name": "python3"
  },
  "language_info": {
   "codemirror_mode": {
    "name": "ipython",
    "version": 3
   },
   "file_extension": ".py",
   "mimetype": "text/x-python",
   "name": "python",
   "nbconvert_exporter": "python",
   "pygments_lexer": "ipython3",
   "version": "3.9.19"
  }
 },
 "nbformat": 4,
 "nbformat_minor": 2
}
