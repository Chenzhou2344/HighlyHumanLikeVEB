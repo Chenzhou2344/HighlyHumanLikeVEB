{
 "cells": [
  {
   "cell_type": "code",
   "execution_count": 1,
   "metadata": {},
   "outputs": [],
   "source": [
    "data_prepath = \"../../data4dimensions/Prompts4dimensions/\"\n",
    "dimensions = ['action','color','scene','object_class','overall_consistency']"
   ]
  },
  {
   "cell_type": "code",
   "execution_count": 2,
   "metadata": {},
   "outputs": [],
   "source": [
    "# for metric in dimensions:\n",
    "#     print(\"=====================================\")\n",
    "\n",
    "#     print(metric.capitalize())\n",
    "#     with open(data_prepath + metric + '.txt', 'r') as f:\n",
    "#         content = f.read()\n",
    "#         # Split the content by lines\n",
    "#         lines = content.split('\\n')\n",
    "#     for prompt in lines:\n",
    "#         re = []\n",
    "#         for p in lines:\n",
    "#             if p.lower().startswith(prompt.lower()):\n",
    "#                 re.append(p)\n",
    "#         if len(re) > 1:\n",
    "#             print(\"Original: \", prompt)\n",
    "#             print(\"Repeats: \", re)"
   ]
  },
  {
   "cell_type": "code",
   "execution_count": null,
   "metadata": {},
   "outputs": [],
   "source": [
    "import json\n",
    "p1 = r'D:\\AStudying\\AI\\Niii_1\\hopes\\codes\\HighlyHumanLikeVEB\\object_class_140.json'\n",
    "p2 = r'D:\\AStudying\\AI\\Niii_1\\hopes\\codes\\HighlyHumanLikeVEB\\Human_anno\\humananno_res\\object_class_lsy.json'\n",
    "p3 = r'D:\\AStudying\\AI\\Niii_1\\hopes\\codes\\HighlyHumanLikeVEB\\Human_anno\\humananno_res\\object_class_lsy_e.json'\n",
    "\n",
    "\n",
    "with open(p1, 'r') as f:\n",
    "    data1 = json.load(f)\n",
    "with open(p2, 'r') as f:\n",
    "    data2 = json.load(f)\n",
    "models = ['cogvideox5b','videocrafter2', 'show1', 'lavie']\n",
    "for k in data1['object_class'].keys():\n",
    "    if int(k) <141:\n",
    "        for model in models:\n",
    "            data2['object_class'][k][model] = data1['object_class'][k][model] \n",
    "with open(p3, 'w') as f:\n",
    "    json.dump(data2, f, indent=4)"
   ]
  },
  {
   "cell_type": "code",
   "execution_count": null,
   "metadata": {},
   "outputs": [],
   "source": []
  }
 ],
 "metadata": {
  "kernelspec": {
   "display_name": "base",
   "language": "python",
   "name": "python3"
  },
  "language_info": {
   "codemirror_mode": {
    "name": "ipython",
    "version": 3
   },
   "file_extension": ".py",
   "mimetype": "text/x-python",
   "name": "python",
   "nbconvert_exporter": "python",
   "pygments_lexer": "ipython3",
   "version": "3.9.19"
  }
 },
 "nbformat": 4,
 "nbformat_minor": 2
}
