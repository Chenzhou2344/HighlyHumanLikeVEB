{
 "cells": [
  {
   "cell_type": "code",
   "execution_count": 3,
   "metadata": {},
   "outputs": [],
   "source": [
    "data_prepath = \"../data4dimensions/Prompts4dimensions/\"\n",
    "dimensions = ['action','color','scene','object_class','overall_consistency']"
   ]
  },
  {
   "cell_type": "code",
   "execution_count": 4,
   "metadata": {},
   "outputs": [
    {
     "name": "stdout",
     "output_type": "stream",
     "text": [
      "=====================================\n",
      "Action\n",
      "=====================================\n",
      "Color\n",
      "=====================================\n",
      "Scene\n",
      "Original:  Bar\n",
      "Repeats:  ['Bar', 'Barn']\n",
      "Original:  Sky\n",
      "Repeats:  ['Sky', 'Skyscraper']\n",
      "=====================================\n",
      "Object_class\n",
      "Original:  A car\n",
      "Repeats:  ['A car', 'A carrot']\n",
      "=====================================\n",
      "Overall_consistency\n",
      "Original:  A boat sailing leisurely along the seine river with the eiffel tower in background\n",
      "Repeats:  ['A boat sailing leisurely along the seine river with the eiffel tower in background by vincent van gogh', 'A boat sailing leisurely along the seine river with the eiffel tower in background']\n"
     ]
    }
   ],
   "source": [
    "for metric in dimensions:\n",
    "    print(\"=====================================\")\n",
    "\n",
    "    print(metric.capitalize())\n",
    "    with open(data_prepath + metric + '.txt', 'r') as f:\n",
    "        content = f.read()\n",
    "        # Split the content by lines\n",
    "        lines = content.split('\\n')\n",
    "    for prompt in lines:\n",
    "        re = []\n",
    "        for p in lines:\n",
    "            if p.lower().startswith(prompt.lower()):\n",
    "                re.append(p)\n",
    "        if len(re) > 1:\n",
    "            print(\"Original: \", prompt)\n",
    "            print(\"Repeats: \", re)"
   ]
  },
  {
   "cell_type": "code",
   "execution_count": 5,
   "metadata": {},
   "outputs": [
    {
     "name": "stdout",
     "output_type": "stream",
     "text": [
      "Renamed: D:\\Astudying\\VideoEval\\rawdata\\updt\\object_class\\lavie\\A car 0.mp4 -> D:\\Astudying\\VideoEval\\rawdata\\updt\\object_class\\lavie\\A car_0.mp4\n",
      "Renamed: D:\\Astudying\\VideoEval\\rawdata\\updt\\object_class\\lavie\\A car 1.mp4 -> D:\\Astudying\\VideoEval\\rawdata\\updt\\object_class\\lavie\\A car_1.mp4\n",
      "Renamed: D:\\Astudying\\VideoEval\\rawdata\\updt\\object_class\\lavie\\A car 2.mp4 -> D:\\Astudying\\VideoEval\\rawdata\\updt\\object_class\\lavie\\A car_2.mp4\n",
      "Renamed: D:\\Astudying\\VideoEval\\rawdata\\updt\\object_class\\show1\\A car 0.mp4 -> D:\\Astudying\\VideoEval\\rawdata\\updt\\object_class\\show1\\A car_0.mp4\n",
      "Renamed: D:\\Astudying\\VideoEval\\rawdata\\updt\\object_class\\show1\\A car 1.mp4 -> D:\\Astudying\\VideoEval\\rawdata\\updt\\object_class\\show1\\A car_1.mp4\n",
      "Renamed: D:\\Astudying\\VideoEval\\rawdata\\updt\\object_class\\show1\\A car 2.mp4 -> D:\\Astudying\\VideoEval\\rawdata\\updt\\object_class\\show1\\A car_2.mp4\n",
      "Renamed: D:\\Astudying\\VideoEval\\rawdata\\updt\\object_class\\videocrafter2\\A car 0.mp4 -> D:\\Astudying\\VideoEval\\rawdata\\updt\\object_class\\videocrafter2\\A car_0.mp4\n",
      "Renamed: D:\\Astudying\\VideoEval\\rawdata\\updt\\object_class\\videocrafter2\\A car 1.mp4 -> D:\\Astudying\\VideoEval\\rawdata\\updt\\object_class\\videocrafter2\\A car_1.mp4\n",
      "Renamed: D:\\Astudying\\VideoEval\\rawdata\\updt\\object_class\\videocrafter2\\A car 2.mp4 -> D:\\Astudying\\VideoEval\\rawdata\\updt\\object_class\\videocrafter2\\A car_2.mp4\n",
      "Renamed: D:\\Astudying\\VideoEval\\rawdata\\updt\\overall_consistency\\cogvideox5b\\A boat sailing leisurely along the seine river with the eiffel tower in background 0.mp4 -> D:\\Astudying\\VideoEval\\rawdata\\updt\\overall_consistency\\cogvideox5b\\A boat sailing leisurely along the seine river with the eiffel tower in background_0.mp4\n",
      "Renamed: D:\\Astudying\\VideoEval\\rawdata\\updt\\overall_consistency\\cogvideox5b\\A boat sailing leisurely along the seine river with the eiffel tower in background 1.mp4 -> D:\\Astudying\\VideoEval\\rawdata\\updt\\overall_consistency\\cogvideox5b\\A boat sailing leisurely along the seine river with the eiffel tower in background_1.mp4\n",
      "Renamed: D:\\Astudying\\VideoEval\\rawdata\\updt\\overall_consistency\\cogvideox5b\\A boat sailing leisurely along the seine river with the eiffel tower in background 2.mp4 -> D:\\Astudying\\VideoEval\\rawdata\\updt\\overall_consistency\\cogvideox5b\\A boat sailing leisurely along the seine river with the eiffel tower in background_2.mp4\n",
      "Renamed: D:\\Astudying\\VideoEval\\rawdata\\updt\\overall_consistency\\lavie\\A boat sailing leisurely along the seine river with the eiffel tower in background 0.mp4 -> D:\\Astudying\\VideoEval\\rawdata\\updt\\overall_consistency\\lavie\\A boat sailing leisurely along the seine river with the eiffel tower in background_0.mp4\n",
      "Renamed: D:\\Astudying\\VideoEval\\rawdata\\updt\\overall_consistency\\lavie\\A boat sailing leisurely along the seine river with the eiffel tower in background 1.mp4 -> D:\\Astudying\\VideoEval\\rawdata\\updt\\overall_consistency\\lavie\\A boat sailing leisurely along the seine river with the eiffel tower in background_1.mp4\n",
      "Renamed: D:\\Astudying\\VideoEval\\rawdata\\updt\\overall_consistency\\lavie\\A boat sailing leisurely along the seine river with the eiffel tower in background 2.mp4 -> D:\\Astudying\\VideoEval\\rawdata\\updt\\overall_consistency\\lavie\\A boat sailing leisurely along the seine river with the eiffel tower in background_2.mp4\n",
      "Renamed: D:\\Astudying\\VideoEval\\rawdata\\updt\\overall_consistency\\show1\\A boat sailing leisurely along the seine river with the eiffel tower in background 1.mp4 -> D:\\Astudying\\VideoEval\\rawdata\\updt\\overall_consistency\\show1\\A boat sailing leisurely along the seine river with the eiffel tower in background_1.mp4\n",
      "Renamed: D:\\Astudying\\VideoEval\\rawdata\\updt\\overall_consistency\\show1\\A boat sailing leisurely along the seine river with the eiffel tower in background 2.mp4 -> D:\\Astudying\\VideoEval\\rawdata\\updt\\overall_consistency\\show1\\A boat sailing leisurely along the seine river with the eiffel tower in background_2.mp4\n",
      "Renamed: D:\\Astudying\\VideoEval\\rawdata\\updt\\overall_consistency\\show1\\A boat sailing leisurely along the seine river with the eiffel tower in background 3.mp4 -> D:\\Astudying\\VideoEval\\rawdata\\updt\\overall_consistency\\show1\\A boat sailing leisurely along the seine river with the eiffel tower in background_3.mp4\n",
      "Renamed: D:\\Astudying\\VideoEval\\rawdata\\updt\\overall_consistency\\videocrafter2\\A boat sailing leisurely along the seine river with the eiffel tower in background 0.mp4 -> D:\\Astudying\\VideoEval\\rawdata\\updt\\overall_consistency\\videocrafter2\\A boat sailing leisurely along the seine river with the eiffel tower in background_0.mp4\n",
      "Renamed: D:\\Astudying\\VideoEval\\rawdata\\updt\\overall_consistency\\videocrafter2\\A boat sailing leisurely along the seine river with the eiffel tower in background 1.mp4 -> D:\\Astudying\\VideoEval\\rawdata\\updt\\overall_consistency\\videocrafter2\\A boat sailing leisurely along the seine river with the eiffel tower in background_1.mp4\n",
      "Renamed: D:\\Astudying\\VideoEval\\rawdata\\updt\\overall_consistency\\videocrafter2\\A boat sailing leisurely along the seine river with the eiffel tower in background 2.mp4 -> D:\\Astudying\\VideoEval\\rawdata\\updt\\overall_consistency\\videocrafter2\\A boat sailing leisurely along the seine river with the eiffel tower in background_2.mp4\n",
      "Renamed: D:\\Astudying\\VideoEval\\rawdata\\updt\\scene\\cogvideox5b\\Bar 0.mp4 -> D:\\Astudying\\VideoEval\\rawdata\\updt\\scene\\cogvideox5b\\Bar_0.mp4\n",
      "Renamed: D:\\Astudying\\VideoEval\\rawdata\\updt\\scene\\cogvideox5b\\Bar 1.mp4 -> D:\\Astudying\\VideoEval\\rawdata\\updt\\scene\\cogvideox5b\\Bar_1.mp4\n",
      "Renamed: D:\\Astudying\\VideoEval\\rawdata\\updt\\scene\\cogvideox5b\\Bar 2.mp4 -> D:\\Astudying\\VideoEval\\rawdata\\updt\\scene\\cogvideox5b\\Bar_2.mp4\n",
      "Renamed: D:\\Astudying\\VideoEval\\rawdata\\updt\\scene\\cogvideox5b\\Sky 0.mp4 -> D:\\Astudying\\VideoEval\\rawdata\\updt\\scene\\cogvideox5b\\Sky_0.mp4\n",
      "Renamed: D:\\Astudying\\VideoEval\\rawdata\\updt\\scene\\cogvideox5b\\Sky 1.mp4 -> D:\\Astudying\\VideoEval\\rawdata\\updt\\scene\\cogvideox5b\\Sky_1.mp4\n",
      "Renamed: D:\\Astudying\\VideoEval\\rawdata\\updt\\scene\\cogvideox5b\\Sky 2.mp4 -> D:\\Astudying\\VideoEval\\rawdata\\updt\\scene\\cogvideox5b\\Sky_2.mp4\n",
      "Renamed: D:\\Astudying\\VideoEval\\rawdata\\updt\\scene\\lavie\\Bar 0.mp4 -> D:\\Astudying\\VideoEval\\rawdata\\updt\\scene\\lavie\\Bar_0.mp4\n",
      "Renamed: D:\\Astudying\\VideoEval\\rawdata\\updt\\scene\\lavie\\Bar 1.mp4 -> D:\\Astudying\\VideoEval\\rawdata\\updt\\scene\\lavie\\Bar_1.mp4\n",
      "Renamed: D:\\Astudying\\VideoEval\\rawdata\\updt\\scene\\lavie\\Bar 2.mp4 -> D:\\Astudying\\VideoEval\\rawdata\\updt\\scene\\lavie\\Bar_2.mp4\n",
      "Renamed: D:\\Astudying\\VideoEval\\rawdata\\updt\\scene\\lavie\\Sky 0.mp4 -> D:\\Astudying\\VideoEval\\rawdata\\updt\\scene\\lavie\\Sky_0.mp4\n",
      "Renamed: D:\\Astudying\\VideoEval\\rawdata\\updt\\scene\\lavie\\Sky 1.mp4 -> D:\\Astudying\\VideoEval\\rawdata\\updt\\scene\\lavie\\Sky_1.mp4\n",
      "Renamed: D:\\Astudying\\VideoEval\\rawdata\\updt\\scene\\lavie\\Sky 2.mp4 -> D:\\Astudying\\VideoEval\\rawdata\\updt\\scene\\lavie\\Sky_2.mp4\n",
      "Renamed: D:\\Astudying\\VideoEval\\rawdata\\updt\\scene\\show1\\Bar 0.mp4 -> D:\\Astudying\\VideoEval\\rawdata\\updt\\scene\\show1\\Bar_0.mp4\n",
      "Renamed: D:\\Astudying\\VideoEval\\rawdata\\updt\\scene\\show1\\Bar 1.mp4 -> D:\\Astudying\\VideoEval\\rawdata\\updt\\scene\\show1\\Bar_1.mp4\n",
      "Renamed: D:\\Astudying\\VideoEval\\rawdata\\updt\\scene\\show1\\Bar 2.mp4 -> D:\\Astudying\\VideoEval\\rawdata\\updt\\scene\\show1\\Bar_2.mp4\n",
      "Renamed: D:\\Astudying\\VideoEval\\rawdata\\updt\\scene\\show1\\Sky 0.mp4 -> D:\\Astudying\\VideoEval\\rawdata\\updt\\scene\\show1\\Sky_0.mp4\n",
      "Renamed: D:\\Astudying\\VideoEval\\rawdata\\updt\\scene\\show1\\Sky 1.mp4 -> D:\\Astudying\\VideoEval\\rawdata\\updt\\scene\\show1\\Sky_1.mp4\n",
      "Renamed: D:\\Astudying\\VideoEval\\rawdata\\updt\\scene\\show1\\Sky 2.mp4 -> D:\\Astudying\\VideoEval\\rawdata\\updt\\scene\\show1\\Sky_2.mp4\n",
      "Renamed: D:\\Astudying\\VideoEval\\rawdata\\updt\\scene\\videocrafter2\\Bar 0.mp4 -> D:\\Astudying\\VideoEval\\rawdata\\updt\\scene\\videocrafter2\\Bar_0.mp4\n",
      "Renamed: D:\\Astudying\\VideoEval\\rawdata\\updt\\scene\\videocrafter2\\Bar 1.mp4 -> D:\\Astudying\\VideoEval\\rawdata\\updt\\scene\\videocrafter2\\Bar_1.mp4\n",
      "Renamed: D:\\Astudying\\VideoEval\\rawdata\\updt\\scene\\videocrafter2\\Bar 2.mp4 -> D:\\Astudying\\VideoEval\\rawdata\\updt\\scene\\videocrafter2\\Bar_2.mp4\n",
      "Renamed: D:\\Astudying\\VideoEval\\rawdata\\updt\\scene\\videocrafter2\\Sky 0.mp4 -> D:\\Astudying\\VideoEval\\rawdata\\updt\\scene\\videocrafter2\\Sky_0.mp4\n",
      "Renamed: D:\\Astudying\\VideoEval\\rawdata\\updt\\scene\\videocrafter2\\Sky 1.mp4 -> D:\\Astudying\\VideoEval\\rawdata\\updt\\scene\\videocrafter2\\Sky_1.mp4\n",
      "Renamed: D:\\Astudying\\VideoEval\\rawdata\\updt\\scene\\videocrafter2\\Sky 2.mp4 -> D:\\Astudying\\VideoEval\\rawdata\\updt\\scene\\videocrafter2\\Sky_2.mp4\n"
     ]
    }
   ],
   "source": [
    "import os\n",
    "\n",
    "# 定义文件夹路径\n",
    "folder_path = r'D:\\Astudying\\VideoEval\\rawdata\\updt'\n",
    "\n",
    "# 获取文件夹中的所有文件列表\n",
    "dimls = os.listdir(folder_path)\n",
    "old_string = ' '\n",
    "new_string = '_'\n",
    "\n",
    "# 遍历文件列表并重命名每个文件\n",
    "for dim in dimls:\n",
    "    modells = os.listdir(os.path.join(folder_path, dim))\n",
    "    for model in modells:\n",
    "        filels = os.listdir(os.path.join(folder_path, dim, model))\n",
    "        for file_name in filels:\n",
    "            # 构建旧文件路径\n",
    "            old_file_path = os.path.join(folder_path, dim, model, file_name)\n",
    "            if old_string in file_name:\n",
    "                    # 使用 rsplit 分割字符串，只分割一次\n",
    "                    parts = file_name.rsplit(old_string, 1)\n",
    "                    # 使用 new_string 连接分割后的部分\n",
    "                    new_file_name = new_string.join(parts)\n",
    "                    new_file_path = os.path.join(folder_path, dim, model,new_file_name)\n",
    "            os.rename(old_file_path, new_file_path)\n",
    "            print(f'Renamed: {old_file_path} -> {new_file_path}')"
   ]
  },
  {
   "cell_type": "code",
   "execution_count": null,
   "metadata": {},
   "outputs": [],
   "source": []
  }
 ],
 "metadata": {
  "kernelspec": {
   "display_name": "base",
   "language": "python",
   "name": "python3"
  },
  "language_info": {
   "codemirror_mode": {
    "name": "ipython",
    "version": 3
   },
   "file_extension": ".py",
   "mimetype": "text/x-python",
   "name": "python",
   "nbconvert_exporter": "python",
   "pygments_lexer": "ipython3",
   "version": "3.9.19"
  }
 },
 "nbformat": 4,
 "nbformat_minor": 2
}
