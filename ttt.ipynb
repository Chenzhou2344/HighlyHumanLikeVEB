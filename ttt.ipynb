{
 "cells": [
  {
   "cell_type": "code",
   "execution_count": 1,
   "metadata": {},
   "outputs": [],
   "source": [
    "data_prepath = \"../../data4dimensions/Prompts4dimensions/\"\n",
    "dimensions = ['action','color','scene','object_class','overall_consistency']"
   ]
  },
  {
   "cell_type": "code",
   "execution_count": 2,
   "metadata": {},
   "outputs": [],
   "source": [
    "import json\n",
    "with open(r'D:\\AStudying\\AI\\Niii_1\\hopes\\codes\\HighlyHumanLikeVEB\\GPT4o_eval_results\\object_class\\object_class_llmeval.json','r') as f:\n",
    "    eval1 = json.load(f)\n",
    "with open(r'D:\\AStudying\\AI\\Niii_1\\hopes\\codes\\HighlyHumanLikeVEB\\GPT4o_eval_results\\object_class\\object_class_llmeval_eco.json','r') as f:\n",
    "    eval2 = json.load(f)    "
   ]
  },
  {
   "cell_type": "code",
   "execution_count": 3,
   "metadata": {},
   "outputs": [
    {
     "data": {
      "text/plain": [
       "'Final Scores:\\n- cogvideox5b: 3, because the video consistently shows a person from behind, clearly recognizable throughout all frames.\\n- kling: 2, because only hands are visible, which is a small part of a person, making it barely recognizable as a full person.\\n- gen3: 2, because the video shows hands, which are part of a person, but not the full person, making it barely recognizable.\\n- videocrafter2: 3, because the video consistently shows a person, clearly recognizable in all frames.\\n- pika: 3, because the video consistently shows a person holding a hairdryer, clearly recognizable throughout.\\n- show1: 3, because the video consistently shows a person, clearly recognizable in all frames.\\n- lavie: 2, because the video shows a cartoonish figure that is not fully detailed, making it barely recognizable as a person.'"
      ]
     },
     "execution_count": 3,
     "metadata": {},
     "output_type": "execute_result"
    }
   ],
   "source": [
    "eval1['0']"
   ]
  },
  {
   "cell_type": "code",
   "execution_count": null,
   "metadata": {},
   "outputs": [],
   "source": [
    "for index in eval1.keys():\n",
    "    lines1 = eval1[index].split('\\n')\n",
    "    lines2 = eval2[index].split('\\n')\n",
    "    lines1[2] = lines2[1]\n",
    "    lines1[3] = lines2[2]\n",
    "    lines1[5] = lines2[3]\n",
    "\n",
    "    eval1[index] = '\\n'.join(lines1)"
   ]
  },
  {
   "cell_type": "code",
   "execution_count": 5,
   "metadata": {},
   "outputs": [],
   "source": [
    "with open(r'D:\\AStudying\\AI\\Niii_1\\hopes\\codes\\HighlyHumanLikeVEB\\GPT4o_eval_results\\object_class\\object_class_llmeval_new.json','w') as f:\n",
    "    json.dump(eval1,f,indent=4)"
   ]
  }
 ],
 "metadata": {
  "kernelspec": {
   "display_name": "base",
   "language": "python",
   "name": "python3"
  },
  "language_info": {
   "codemirror_mode": {
    "name": "ipython",
    "version": 3
   },
   "file_extension": ".py",
   "mimetype": "text/x-python",
   "name": "python",
   "nbconvert_exporter": "python",
   "pygments_lexer": "ipython3",
   "version": "3.9.19"
  }
 },
 "nbformat": 4,
 "nbformat_minor": 2
}
