{
 "cells": [
  {
   "cell_type": "code",
   "execution_count": 1,
   "metadata": {},
   "outputs": [],
   "source": [
    "data_prepath = \"../../data4dimensions/Prompts4dimensions/\"\n",
    "dimensions = ['action','color','scene','object_class','overall_consistency']"
   ]
  },
  {
   "cell_type": "code",
   "execution_count": 2,
   "metadata": {},
   "outputs": [
    {
     "name": "stdout",
     "output_type": "stream",
     "text": [
      "=====================================\n",
      "Action\n",
      "=====================================\n",
      "Color\n",
      "=====================================\n",
      "Scene\n",
      "Original:  Bar\n",
      "Repeats:  ['Bar', 'Barn']\n",
      "Original:  Sky\n",
      "Repeats:  ['Sky', 'Skyscraper']\n",
      "=====================================\n",
      "Object_class\n",
      "Original:  A car\n",
      "Repeats:  ['A car', 'A carrot']\n",
      "=====================================\n",
      "Overall_consistency\n",
      "Original:  A boat sailing leisurely along the seine river with the eiffel tower in background\n",
      "Repeats:  ['A boat sailing leisurely along the seine river with the eiffel tower in background by vincent van gogh', 'A boat sailing leisurely along the seine river with the eiffel tower in background']\n"
     ]
    }
   ],
   "source": [
    "for metric in dimensions:\n",
    "    print(\"=====================================\")\n",
    "\n",
    "    print(metric.capitalize())\n",
    "    with open(data_prepath + metric + '.txt', 'r') as f:\n",
    "        content = f.read()\n",
    "        # Split the content by lines\n",
    "        lines = content.split('\\n')\n",
    "    for prompt in lines:\n",
    "        re = []\n",
    "        for p in lines:\n",
    "            if p.lower().startswith(prompt.lower()):\n",
    "                re.append(p)\n",
    "        if len(re) > 1:\n",
    "            print(\"Original: \", prompt)\n",
    "            print(\"Repeats: \", re)"
   ]
  },
  {
   "cell_type": "code",
   "execution_count": null,
   "metadata": {},
   "outputs": [],
   "source": []
  }
 ],
 "metadata": {
  "kernelspec": {
   "display_name": "base",
   "language": "python",
   "name": "python3"
  },
  "language_info": {
   "codemirror_mode": {
    "name": "ipython",
    "version": 3
   },
   "file_extension": ".py",
   "mimetype": "text/x-python",
   "name": "python",
   "nbconvert_exporter": "python",
   "pygments_lexer": "ipython3",
   "version": "3.9.19"
  }
 },
 "nbformat": 4,
 "nbformat_minor": 2
}
