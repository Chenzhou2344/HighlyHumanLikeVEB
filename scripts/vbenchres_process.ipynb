{
 "cells": [
  {
   "cell_type": "code",
   "execution_count": 1,
   "metadata": {},
   "outputs": [],
   "source": [
    "import json\n",
    "\n",
    "json_filepath = '../Human_anno/overall_consistency.json'\n",
    "with open(json_filepath,'r') as f:\n",
    "    oc = json.load(f)"
   ]
  },
  {
   "cell_type": "code",
   "execution_count": 2,
   "metadata": {},
   "outputs": [],
   "source": [
    "def rank_basescore(base_score, draw_ratio):\n",
    "    # 计算最大值和最小值的差值\n",
    "    score_range = max(base_score) - min(base_score)\n",
    "    # 计算平序的阈值\n",
    "    draw_gap = draw_ratio * score_range\n",
    "\n",
    "    # 对列表进行排序并保留原始索引\n",
    "    indexed_scores = list(enumerate(base_score))\n",
    "    indexed_scores.sort(key=lambda x: x[1])\n",
    "\n",
    "    # 处理平序\n",
    "    ranks = [0] * len(base_score)\n",
    "    current_rank = 1\n",
    "    for i in range(len(indexed_scores)):\n",
    "        if i > 0 and abs(indexed_scores[i][1] - indexed_scores[i - 1][1]) < draw_gap:\n",
    "            ranks[indexed_scores[i][0]] = current_rank\n",
    "        else:\n",
    "            current_rank = i + 1\n",
    "            ranks[indexed_scores[i][0]] = current_rank\n",
    "\n",
    "    return ranks"
   ]
  },
  {
   "cell_type": "code",
   "execution_count": 3,
   "metadata": {},
   "outputs": [],
   "source": [
    "models = ['gen2','lavie','pika','show1','videocrafter2']\n",
    "vbench_res = {}\n",
    "for model in models:\n",
    "    path = '../baseline/overall_consistency/vbench_viclip_evaluation_results/results_overall_consistency_{}_eval_results.json'.format(model)\n",
    "    with open(path,'r') as f:\n",
    "        vbench_res[model] = json.load(f)"
   ]
  },
  {
   "cell_type": "code",
   "execution_count": 4,
   "metadata": {},
   "outputs": [],
   "source": [
    "new_models = ['gen3','kling','gen2','lavie','pika','show1','videocrafter2']\n",
    "for i in range(len(oc)):\n",
    "    oc[i]['baseline_rank'] = {}\n",
    "    for model in new_models:\n",
    "        oc[i]['baseline_rank'][model] = 0\n"
   ]
  },
  {
   "cell_type": "code",
   "execution_count": 5,
   "metadata": {},
   "outputs": [],
   "source": [
    "vbench_res['gen2']['overall_consistency'][1]\n",
    "for i in range(len(oc)):\n",
    "    base_score = [vbench_res[model]['overall_consistency'][1][i]['video_results'] for model in models]\n",
    "    ranks = rank_basescore(base_score, 0.1)\n",
    "    for j in range(len(models)):\n",
    "        oc[i]['baseline_rank'] [models[j]] = ranks[j]"
   ]
  },
  {
   "cell_type": "code",
   "execution_count": 6,
   "metadata": {},
   "outputs": [],
   "source": [
    "with open(json_filepath,'w') as f:\n",
    "    json.dump(oc,f,indent=4)"
   ]
  }
 ],
 "metadata": {
  "kernelspec": {
   "display_name": "base",
   "language": "python",
   "name": "python3"
  },
  "language_info": {
   "codemirror_mode": {
    "name": "ipython",
    "version": 3
   },
   "file_extension": ".py",
   "mimetype": "text/x-python",
   "name": "python",
   "nbconvert_exporter": "python",
   "pygments_lexer": "ipython3",
   "version": "3.9.19"
  }
 },
 "nbformat": 4,
 "nbformat_minor": 2
}
