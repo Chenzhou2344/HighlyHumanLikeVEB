{
 "cells": [
  {
   "cell_type": "code",
   "execution_count": 1,
   "metadata": {},
   "outputs": [],
   "source": [
    "import cv2\n",
    "import numpy as np\n",
    "import os\n",
    "\n",
    "def apply_gaussian_blur(frame, kernel_size=(7, 7)):\n",
    "    return cv2.GaussianBlur(frame, kernel_size, 0)\n",
    "\n",
    "def add_gaussian_noise(frame, mean=0, var=0.65):\n",
    "    sigma = var ** 2\n",
    "    gauss = np.random.normal(mean, sigma, frame.shape).astype('uint8')\n",
    "    noisy_frame = cv2.add(frame, gauss)\n",
    "    return noisy_frame\n",
    "\n",
    "\n",
    "def process_video(input_path, output_path):\n",
    "    cap = cv2.VideoCapture(input_path)\n",
    "    if not cap.isOpened():\n",
    "        print(\"Error: Could not open video.\")\n",
    "        return\n",
    "\n",
    "    #                                                                                           \n",
    "    fps = cap.get(cv2.CAP_PROP_FPS)\n",
    "    width = int(cap.get(cv2.CAP_PROP_FRAME_WIDTH))\n",
    "    height = int(cap.get(cv2.CAP_PROP_FRAME_HEIGHT))\n",
    "\n",
    "    # 使用MP4编码器并保持原视频的帧率\n",
    "    fourcc = cv2.VideoWriter_fourcc(*'mp4v')\n",
    "    out = cv2.VideoWriter(output_path, fourcc, fps, (width, height))\n",
    "\n",
    "    while cap.isOpened():\n",
    "        ret, frame = cap.read()\n",
    "        if not ret:\n",
    "            break\n",
    "\n",
    "        blurred_frame = apply_gaussian_blur(frame)\n",
    "        noisy_frame = add_gaussian_noise(blurred_frame)\n",
    "\n",
    "        out.write(noisy_frame)\n",
    "\n",
    "    cap.release()\n",
    "    out.release()\n",
    "    cv2.destroyAllWindows()"
   ]
  },
  {
   "cell_type": "code",
   "execution_count": 2,
   "metadata": {},
   "outputs": [],
   "source": [
    "from PIL import Image, ImageFilter, ImageEnhance\n",
    "import numpy as np\n",
    "\n",
    "def apply_gaussian_blur_gif(frame, radius=5):\n",
    "    return frame.filter(ImageFilter.GaussianBlur(radius=radius))\n",
    "\n",
    "def add_gaussian_noise_gif(frame, mean=0, var=5):\n",
    "    np_frame = np.array(frame)\n",
    "    sigma = var **  0.1\n",
    "    gauss = np.random.normal(mean, sigma, np_frame.shape).astype('uint8')\n",
    "    noisy_frame = cv2.add(np_frame, gauss)\n",
    "    noisy_frame = np.clip(noisy_frame, 0, 255).astype('uint8')\n",
    "    return Image.fromarray(noisy_frame)\n",
    "\n",
    "def process_gif(input_path, output_path):\n",
    "    gif = Image.open(input_path)\n",
    "    frames = []\n",
    "    try:\n",
    "        while True:\n",
    "            frame = gif.copy().convert('RGB')\n",
    "            blurred_frame = apply_gaussian_blur_gif(frame)\n",
    "            noisy_frame = add_gaussian_noise_gif(blurred_frame)\n",
    "            frames.append(noisy_frame)  # Convert back to 'P' mode for GIF\n",
    "            gif.seek(gif.tell() + 1)\n",
    "    except EOFError:\n",
    "        pass\n",
    "\n",
    "    frames[0].save(output_path, save_all=True, append_images=frames[1:], loop=0)"
   ]
  },
  {
   "cell_type": "code",
   "execution_count": 6,
   "metadata": {},
   "outputs": [
    {
     "name": "stderr",
     "output_type": "stream",
     "text": [
      "100%|██████████| 273/273 [00:39<00:00,  6.98it/s]\n"
     ]
    },
    {
     "name": "stdout",
     "output_type": "stream",
     "text": [
      "finish cogvideox5b\n"
     ]
    },
    {
     "name": "stderr",
     "output_type": "stream",
     "text": [
      "100%|██████████| 273/273 [05:27<00:00,  1.20s/it]\n"
     ]
    },
    {
     "name": "stdout",
     "output_type": "stream",
     "text": [
      "finish kling\n"
     ]
    },
    {
     "name": "stderr",
     "output_type": "stream",
     "text": [
      "100%|██████████| 273/273 [13:11<00:00,  2.90s/it]\n"
     ]
    },
    {
     "name": "stdout",
     "output_type": "stream",
     "text": [
      "finish gen3\n"
     ]
    },
    {
     "name": "stderr",
     "output_type": "stream",
     "text": [
      "100%|██████████| 273/273 [00:06<00:00, 40.81it/s]\n"
     ]
    },
    {
     "name": "stdout",
     "output_type": "stream",
     "text": [
      "finish videocrafter2\n"
     ]
    },
    {
     "name": "stderr",
     "output_type": "stream",
     "text": [
      "100%|██████████| 273/273 [01:52<00:00,  2.44it/s]\n"
     ]
    },
    {
     "name": "stdout",
     "output_type": "stream",
     "text": [
      "finish pika\n"
     ]
    },
    {
     "name": "stderr",
     "output_type": "stream",
     "text": [
      "100%|██████████| 274/274 [00:13<00:00, 20.98it/s]\n"
     ]
    },
    {
     "name": "stdout",
     "output_type": "stream",
     "text": [
      "finish show1\n"
     ]
    },
    {
     "name": "stderr",
     "output_type": "stream",
     "text": [
      "100%|██████████| 273/273 [00:10<00:00, 26.12it/s]"
     ]
    },
    {
     "name": "stdout",
     "output_type": "stream",
     "text": [
      "finish lavie\n"
     ]
    },
    {
     "name": "stderr",
     "output_type": "stream",
     "text": [
      "\n"
     ]
    }
   ],
   "source": [
    "from tqdm import tqdm\n",
    "output_dir = r'D:\\Astudying\\VideoEval\\distorted_overall_consistency\\overall_consistency'\n",
    "input_dir = r'D:\\Astudying\\VideoEval\\data4dimensions\\overall_consistency'\n",
    "model_name_list = ['cogvideox5b','kling', 'gen3','videocrafter2', 'pika', 'show1', 'lavie']\n",
    "for model_name in model_name_list:\n",
    "    model_video_dir = os.path.join(input_dir, model_name)\n",
    "    for video_name in tqdm(os.listdir(model_video_dir)):\n",
    "        if video_name in os.listdir(os.path.join(output_dir, model_name)):\n",
    "            continue\n",
    "        if video_name.split('_')[-1][0] == '0':\n",
    "            video_path = os.path.join(model_video_dir, video_name)\n",
    "            output_path = os.path.join(output_dir, model_name, video_name)\n",
    "            process_video(video_path, output_path)\n",
    "    print('finish',model_name)"
   ]
  },
  {
   "cell_type": "code",
   "execution_count": null,
   "metadata": {},
   "outputs": [],
   "source": []
  }
 ],
 "metadata": {
  "kernelspec": {
   "display_name": "base",
   "language": "python",
   "name": "python3"
  },
  "language_info": {
   "codemirror_mode": {
    "name": "ipython",
    "version": 3
   },
   "file_extension": ".py",
   "mimetype": "text/x-python",
   "name": "python",
   "nbconvert_exporter": "python",
   "pygments_lexer": "ipython3",
   "version": "3.9.19"
  }
 },
 "nbformat": 4,
 "nbformat_minor": 2
}
