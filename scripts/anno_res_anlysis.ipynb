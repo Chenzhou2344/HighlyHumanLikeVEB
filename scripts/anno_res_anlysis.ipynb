{
 "cells": [
  {
   "cell_type": "code",
   "execution_count": 1,
   "metadata": {},
   "outputs": [],
   "source": [
    "import pandas as pd\n",
    "# anno_1 = '../Human_anno/humananno_res/lsy_scene.xlsx'\n",
    "# anno_2 = '../Human_anno/humananno_res/lsy_scene.xlsx'\n",
    "\n",
    "# anno_1oc =pd.read_excel(anno_1, usecols=['Model','scene'])\n",
    "# anno_2oc =pd.read_excel(anno_2, usecols=['Model','scene'])\n",
    "# anno_1oc = anno_1oc.astype(object).where(pd.notnull(anno_1oc), None)\n",
    "# anno_2oc = anno_2oc.astype(object).where(pd.notnull(anno_2oc), None)"
   ]
  },
  {
   "cell_type": "code",
   "execution_count": 2,
   "metadata": {},
   "outputs": [],
   "source": [
    "import numpy as np\n",
    "\n",
    "def rank_numbers(numbers):\n",
    "    sorted_indices = sorted(range(len(numbers)), key=lambda k: numbers[k], reverse=True)\n",
    "    ranks = [0] * len(numbers)\n",
    "\n",
    "    i = 0\n",
    "    while i < len(sorted_indices):\n",
    "        value_indices = [i]\n",
    "        while i + 1 < len(sorted_indices) and numbers[sorted_indices[i]] == numbers[sorted_indices[i + 1]]:\n",
    "            i += 1\n",
    "            value_indices.append(i)\n",
    "        average_rank = np.mean([index + 1 for index in value_indices])\n",
    "        for index in value_indices:\n",
    "            ranks[sorted_indices[index]] = average_rank\n",
    "        i += 1\n",
    "\n",
    "    return ranks\n",
    "\n",
    "def calculate_spearman_manual(values1, values2):\n",
    "    n = len(values1)\n",
    "    m = len(values2)\n",
    "    rank1 = rank_numbers(values1)\n",
    "    rank2 = rank_numbers(values2)\n",
    "    d = np.array(rank1) - np.array(rank2)\n",
    "    d_squared = np.square(d)\n",
    "    spearman_corr = 1 - (6 * np.sum(d_squared)) / (n * (n**2 - 1))\n",
    "    return spearman_corr"
   ]
  },
  {
   "cell_type": "code",
   "execution_count": 3,
   "metadata": {},
   "outputs": [],
   "source": [
    "dimension = 'color'"
   ]
  },
  {
   "cell_type": "code",
   "execution_count": 4,
   "metadata": {},
   "outputs": [],
   "source": [
    "import json\n",
    "jsonpath = '../Human_anno/{}.json'.format(dimension)\n",
    "with open(jsonpath,'r') as f:\n",
    "    oc = json.load(f)\n",
    "\n",
    "# history =\"../GPT4o_eval_results/{}_gpt4eval_results.json\".format(dimension)\n",
    "# with open(history,'r') as f:\n",
    "#     gpt4o_eval_history = json.load(f)"
   ]
  },
  {
   "cell_type": "code",
   "execution_count": 5,
   "metadata": {},
   "outputs": [],
   "source": [
    "# gptvsanno1_spearman = 0\n",
    "# gptvsanno2_spearman = 0\n",
    "# anno1vsanno2_spearman = 0\n",
    "# gptvsannomean = 0\n",
    "# badeval = []\n",
    "\n",
    "# for i in range(length):\n",
    "#     if i % 3 == 0:\n",
    "#         gpt4o_eval_rs = np.array(list(oc[i]['gpt4o_eval'].values()))\n",
    "#         human_anno = np.array(list(oc[i]['human_anno'].values()))\n",
    "#         anno1 = human_anno[:,0]\n",
    "#         anno2 = human_anno[:,1]\n",
    "#         annomean = (anno1 + anno2)/2\n",
    "#     else:\n",
    "#         gpt4o_eval_rs+= np.array(list(oc[i]['gpt4o_eval'].values()))\n",
    "#         human_anno = np.array(list(oc[i]['human_anno'].values()))\n",
    "#         anno1 += human_anno[:,0]\n",
    "#         anno2 += human_anno[:,1]\n",
    "#         annomean += (anno1 + anno2)/2\n",
    "\n",
    "#     if i % 3 == 2:\n",
    "#         gptvsanno1_spearman += calculate_spearman_manual(gpt4o_eval_rs,anno1)\n",
    "#         gptvsanno2_spearman += calculate_spearman_manual(gpt4o_eval_rs,anno2)\n",
    "#         anno1vsanno2_spearman += calculate_spearman_manual(anno1,anno2)\n",
    "#         gptvsannomean += calculate_spearman_manual(gpt4o_eval_rs,annomean)\n",
    "\n",
    "# gptvsanno1_spearman = 3*gptvsanno1_spearman/length\n",
    "# gptvsanno2_spearman = 3*gptvsanno2_spearman/length\n",
    "# anno1vsanno2_spearman = 3*  anno1vsanno2_spearman/length\n",
    "# gptvsannomean = 3*gptvsannomean/length\n",
    "# print(\"GPT vs Anno1 Spearman: \",gptvsanno1_spearman)\n",
    "# print(\"GPT vs Anno2 Spearman: \",gptvsanno2_spearman)\n",
    "# print(\"Anno1 vs Anno2 Spearman: \",anno1vsanno2_spearman)\n",
    "# print(\"GPT vs AnnoMean Spearman: \",gptvsannomean)"
   ]
  },
  {
   "cell_type": "code",
   "execution_count": 6,
   "metadata": {},
   "outputs": [],
   "source": [
    "models = ['cogvideox5b','gen3', 'kling','videocrafter2', 'pika', 'show1', 'lavie']\n",
    "# models = ['videocrafter2', 'pika', 'show1', 'lavie']\n",
    "# models = ['cogvideox5b','gen3', 'kling']\n",
    "length = 108"
   ]
  },
  {
   "cell_type": "code",
   "execution_count": 7,
   "metadata": {},
   "outputs": [
    {
     "name": "stdout",
     "output_type": "stream",
     "text": [
      "GPT vs Anno1 Spearman:  0.6626157407407409\n",
      "GPT vs Anno2 Spearman:  0.5971395502645502\n",
      "Anno1 vs Anno2 Spearman:  0.6817956349206349\n",
      "GPT vs AnnoMean Spearman:  0.6365740740740742\n",
      "GPT average score:  [4.22222222 4.41666667 4.82407407 4.7962963  3.74074074 4.18518519\n",
      " 3.61111111]\n",
      "Anno1 average score:  [4.30555556 4.42592593 4.90740741 4.75       3.53703704 3.92592593\n",
      " 3.83333333]\n",
      "Anno2 average score:  [4.43518519 4.49074074 4.74074074 4.80555556 3.51851852 4.0462963\n",
      " 4.0462963 ]\n",
      "AnnoMean average score:  [4.37037037 4.45833333 4.82407407 4.77777778 3.52777778 3.98611111\n",
      " 3.93981481]\n"
     ]
    }
   ],
   "source": [
    "gptvsanno1_spearman = np.zeros(length)\n",
    "gptvsanno2_spearman = np.zeros(length)\n",
    "anno1vsanno2_spearman = np.zeros(length)\n",
    "gptvsannomean_spearman = np.zeros(length)\n",
    "baselinevsanno1_spearman = np.zeros(length)\n",
    "baselinevsanno2_spearman = np.zeros(length)\n",
    "baselinevsannomean_spearman = np.zeros(length)\n",
    "\n",
    "gptscore = np.zeros([len(models)])\n",
    "anno1score = np.zeros([len(models)])\n",
    "anno2score = np.zeros([len(models)])\n",
    "annomeanscore =np.zeros([len(models)])\n",
    "# baseline_rank = np.zeros([7])\n",
    "badeval = []\n",
    "\n",
    "for i in range(length):\n",
    "    gpt4o_eval_rs = np.array(list(oc[i]['gpt4o_eval'].values()))\n",
    "    human_anno = np.array(list(oc[i]['human_anno'].values()))\n",
    "    # baseline_rank = np.array(list(oc[i]['baseline_rank'].values())[3:])\n",
    "\n",
    "    anno1 = human_anno[:,0]\n",
    "    # anno2 = human_anno[:,1]\n",
    "    anno2 = human_anno[:,1]\n",
    "    annomean = (anno1 + anno2)/2\n",
    "\n",
    "\n",
    "    gptscore += gpt4o_eval_rs\n",
    "    anno1score += anno1\n",
    "    anno2score += anno2\n",
    "    annomeanscore += annomean\n",
    "\n",
    "\n",
    "    gptvsanno1 = calculate_spearman_manual(gpt4o_eval_rs,anno1)\n",
    "    gptvsanno2 = calculate_spearman_manual(gpt4o_eval_rs,anno2)\n",
    "    anno1vsanno2 = calculate_spearman_manual(anno1,anno2)\n",
    "    gptvsannomean = calculate_spearman_manual(gpt4o_eval_rs,annomean)\n",
    "    # baselinevsanno1 = calculate_spearman_manual(baseline_rank,anno1)\n",
    "    # baselinevsanno2 = calculate_spearman_manual(baseline_rank,anno2)\n",
    "    # baselinevsannomean = calculate_spearman_manual(baseline_rank,annomean)\n",
    "\n",
    "    gptvsanno1_spearman[i] = gptvsanno1\n",
    "    gptvsanno2_spearman[i] = gptvsanno2\n",
    "    anno1vsanno2_spearman[i] = anno1vsanno2\n",
    "    gptvsannomean_spearman[i] = gptvsannomean\n",
    "    # baselinevsanno1_spearman[i] = baselinevsanno1\n",
    "    # baselinevsanno2_spearman[i] = baselinevsanno2\n",
    "    # baselinevsannomean_spearman[i] = baselinevsannomean\n",
    "\n",
    "    if gptvsannomean <0.3:\n",
    "        badeval.append(i)\n",
    "\n",
    "gptscore = gptscore/length\n",
    "anno1score = anno1score/length\n",
    "anno2score = anno2score/length\n",
    "annomeanscore = annomeanscore/length\n",
    "\n",
    "print(\"GPT vs Anno1 Spearman: \",gptvsanno1_spearman.mean())\n",
    "print(\"GPT vs Anno2 Spearman: \",gptvsanno2_spearman.mean())\n",
    "print(\"Anno1 vs Anno2 Spearman: \",anno1vsanno2_spearman.mean())\n",
    "print(\"GPT vs AnnoMean Spearman: \",gptvsannomean_spearman.mean())\n",
    "# print(\"Baseline vs Anno1 Spearman: \",baselinevsanno1_spearman.mean())\n",
    "# print(\"Baseline vs Anno2 Spearman: \",baselinevsanno2_spearman.mean())\n",
    "# print(\"Baseline vs AnnoMean Spearman: \",baselinevsannomean_spearman.mean())\n",
    "\n",
    "\n",
    "print(\"GPT average score: \",gptscore)\n",
    "print(\"Anno1 average score: \",anno1score)\n",
    "print(\"Anno2 average score: \",anno2score)\n",
    "print(\"AnnoMean average score: \",annomeanscore)"
   ]
  },
  {
   "cell_type": "code",
   "execution_count": 8,
   "metadata": {},
   "outputs": [],
   "source": [
    "from collections import Counter\n",
    "badeval_prompt = []\n",
    "for i in badeval:\n",
    "    # print(\"spearman\",gptvsannomean_spearman[i])\n",
    "# print(\"videos\",oc[i]['videos']['gen2'])\n",
    "    # print(\"prompt\",oc[i]['prompt_en'])\n",
    "    badeval_prompt.append(oc[i]['prompt_en'])\n",
    "    # print(\"GPT score\",oc[i]['gpt4o_eval'])\n",
    "    # print(\"Anno score\",oc[i]['human_anno'])\n",
    "    # print(\"GPT reasons\",gpt4o_eval_history[str(i)])"
   ]
  },
  {
   "cell_type": "code",
   "execution_count": 9,
   "metadata": {},
   "outputs": [],
   "source": [
    "conuter = Counter(badeval_prompt)\n",
    "repeated = {k:v for k,v in conuter.items() if v>1}"
   ]
  },
  {
   "cell_type": "code",
   "execution_count": 10,
   "metadata": {},
   "outputs": [],
   "source": [
    "# print(sum(repeated.values()))\n",
    "# print(repeated)\n",
    "# with open('D:\\Astudying\\VideoEval\\HighlyHumanLikeVEB\\Human_anno\\BadEval4OverallConsistency.json','w') as f:\n",
    "#     json.dump(repeated,f,indent=4)"
   ]
  },
  {
   "cell_type": "code",
   "execution_count": 11,
   "metadata": {},
   "outputs": [
    {
     "data": {
      "text/plain": [
       "array([ 0.83035714,  0.91964286,  1.        ,  0.55357143,  0.42857143,\n",
       "        1.        ,  1.        ,  0.80357143,  0.95535714,  0.875     ,\n",
       "        0.91071429,  0.73214286,  0.47321429,  1.        ,  0.89285714,\n",
       "        0.63392857,  0.41071429,  0.91964286,  0.5625    ,  0.90178571,\n",
       "        0.54464286,  0.92857143,  0.15178571,  0.78571429,  0.78571429,\n",
       "        0.76785714,  0.85714286,  0.54464286,  1.        ,  0.38392857,\n",
       "        0.67857143,  0.78571429,  0.64285714,  0.86607143,  0.61607143,\n",
       "        0.89285714,  1.        ,  0.97321429,  0.8125    ,  0.89285714,\n",
       "        0.65178571,  0.67857143,  0.78571429,  1.        ,  0.19642857,\n",
       "        0.86607143,  0.86607143,  0.86607143,  0.67857143,  0.22321429,\n",
       "        0.65178571,  0.41071429,  0.9375    ,  0.82142857,  0.59821429,\n",
       "       -0.25892857,  0.6875    ,  0.16964286,  0.71428571,  0.48214286,\n",
       "        0.8125    ,  0.44642857,  0.54464286,  0.50892857,  0.42857143,\n",
       "        0.86607143,  0.4375    ,  0.83035714,  0.75892857,  0.57142857,\n",
       "        0.70535714,  0.375     ,  0.83928571,  0.1875    ,  0.86607143,\n",
       "        0.41964286,  0.54464286,  0.625     ,  0.03571429,  0.85714286,\n",
       "        0.63392857,  0.25      ,  0.375     ,  0.375     ,  0.59821429,\n",
       "        0.73214286,  0.50892857,  0.5625    ,  0.84821429,  0.59821429,\n",
       "        0.57142857,  0.47321429,  0.27678571,  0.82142857,  0.94642857,\n",
       "        0.36607143,  0.35714286,  0.67857143,  0.58035714,  0.66964286,\n",
       "        0.55357143,  0.73214286,  0.8125    ,  0.92857143,  0.85714286,\n",
       "        0.67857143,  0.75892857,  0.61607143])"
      ]
     },
     "execution_count": 11,
     "metadata": {},
     "output_type": "execute_result"
    }
   ],
   "source": [
    "gptvsanno1_spearman"
   ]
  },
  {
   "cell_type": "code",
   "execution_count": 12,
   "metadata": {},
   "outputs": [
    {
     "ename": "NameError",
     "evalue": "name 'anno_1oc' is not defined",
     "output_type": "error",
     "traceback": [
      "\u001b[1;31m---------------------------------------------------------------------------\u001b[0m",
      "\u001b[1;31mNameError\u001b[0m                                 Traceback (most recent call last)",
      "Cell \u001b[1;32mIn[12], line 1\u001b[0m\n\u001b[1;32m----> 1\u001b[0m \u001b[43manno_1oc\u001b[49m\n",
      "\u001b[1;31mNameError\u001b[0m: name 'anno_1oc' is not defined"
     ]
    }
   ],
   "source": [
    "anno_1oc"
   ]
  },
  {
   "cell_type": "code",
   "execution_count": null,
   "metadata": {},
   "outputs": [],
   "source": []
  }
 ],
 "metadata": {
  "kernelspec": {
   "display_name": "base",
   "language": "python",
   "name": "python3"
  },
  "language_info": {
   "codemirror_mode": {
    "name": "ipython",
    "version": 3
   },
   "file_extension": ".py",
   "mimetype": "text/x-python",
   "name": "python",
   "nbconvert_exporter": "python",
   "pygments_lexer": "ipython3",
   "version": "3.9.19"
  }
 },
 "nbformat": 4,
 "nbformat_minor": 2
}
