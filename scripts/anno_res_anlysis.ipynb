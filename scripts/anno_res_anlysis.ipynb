{
 "cells": [
  {
   "cell_type": "code",
   "execution_count": 1,
   "metadata": {},
   "outputs": [],
   "source": [
    "# import pandas as pd\n",
    "# anno_1 = 'D:\\Astudying\\VideoEval\\HighlyHumanLikeVEB\\Human_anno\\humananno_res\\hanhui_oc.xlsx'\n",
    "# anno_2 = 'D:\\Astudying\\VideoEval\\HighlyHumanLikeVEB\\Human_anno\\humananno_res\\lsy_oc.xlsx'\n",
    "\n",
    "# anno_1oc =pd.read_excel(anno_1, usecols=['Model','overall_consistency'])\n",
    "# anno_2oc =pd.read_excel(anno_2, usecols=['Model','overall_consistency'])\n",
    "# anno_1oc = anno_1oc.astype(object).where(pd.notnull(anno_1oc), None)\n",
    "# anno_2oc = anno_2oc.astype(object).where(pd.notnull(anno_2oc), None)"
   ]
  },
  {
   "cell_type": "code",
   "execution_count": 2,
   "metadata": {},
   "outputs": [],
   "source": [
    "import numpy as np\n",
    "\n",
    "def rank_numbers(numbers):\n",
    "    sorted_indices = sorted(range(len(numbers)), key=lambda k: numbers[k], reverse=True)\n",
    "    ranks = [0] * len(numbers)\n",
    "\n",
    "    i = 0\n",
    "    while i < len(sorted_indices):\n",
    "        value_indices = [i]\n",
    "        while i + 1 < len(sorted_indices) and numbers[sorted_indices[i]] == numbers[sorted_indices[i + 1]]:\n",
    "            i += 1\n",
    "            value_indices.append(i)\n",
    "        average_rank = np.mean([index + 1 for index in value_indices])\n",
    "        for index in value_indices:\n",
    "            ranks[sorted_indices[index]] = average_rank\n",
    "        i += 1\n",
    "\n",
    "    return ranks\n",
    "\n",
    "def calculate_spearman_manual(values1, values2):\n",
    "    n = len(values1)\n",
    "    m = len(values2)\n",
    "    rank1 = rank_numbers(values1)\n",
    "    rank2 = rank_numbers(values2)\n",
    "    d = np.array(rank1) - np.array(rank2)\n",
    "    d_squared = np.square(d)\n",
    "    spearman_corr = 1 - (6 * np.sum(d_squared)) / (n * (n**2 - 1))\n",
    "    return spearman_corr"
   ]
  },
  {
   "cell_type": "code",
   "execution_count": 3,
   "metadata": {},
   "outputs": [],
   "source": [
    "import json\n",
    "jsonpath = 'D:\\Astudying\\VideoEval\\HighlyHumanLikeVEB\\Human_anno\\overall_consistency.json'\n",
    "with open(jsonpath,'r') as f:\n",
    "    oc = json.load(f)\n",
    "\n",
    "history = r\"D:\\Astudying\\VideoEval\\HighlyHumanLikeVEB\\GPT4o_eval_results\\Old_overall_consistency_gpt4eval_results.json\"\n",
    "with open(history,'r') as f:\n",
    "    gpt4o_eval_history = json.load(f)"
   ]
  },
  {
   "cell_type": "code",
   "execution_count": 4,
   "metadata": {},
   "outputs": [],
   "source": [
    "# gptvsanno1_spearman = 0\n",
    "# gptvsanno2_spearman = 0\n",
    "# anno1vsanno2_spearman = 0\n",
    "# gptvsannomean = 0\n",
    "# badeval = []\n",
    "\n",
    "# for i in range(len(oc)):\n",
    "#     if i % 3 == 0:\n",
    "#         gpt4o_eval_rs = np.array(list(oc[i]['gpt4o_eval'].values()))\n",
    "#         human_anno = np.array(list(oc[i]['human_anno'].values()))\n",
    "#         anno1 = human_anno[:,0]\n",
    "#         anno2 = human_anno[:,1]\n",
    "#         annomean = (anno1 + anno2)/2\n",
    "#     else:\n",
    "#         gpt4o_eval_rs+= np.array(list(oc[i]['gpt4o_eval'].values()))\n",
    "#         human_anno = np.array(list(oc[i]['human_anno'].values()))\n",
    "#         anno1 += human_anno[:,0]\n",
    "#         anno2 += human_anno[:,1]\n",
    "#         annomean += (anno1 + anno2)/2\n",
    "\n",
    "#     if i % 3 == 2:\n",
    "#         gptvsanno1_spearman += calculate_spearman_manual(gpt4o_eval_rs,anno1)\n",
    "#         gptvsanno2_spearman += calculate_spearman_manual(gpt4o_eval_rs,anno2)\n",
    "#         anno1vsanno2_spearman += calculate_spearman_manual(anno1,anno2)\n",
    "#         gptvsannomean += calculate_spearman_manual(gpt4o_eval_rs,annomean)\n",
    "\n",
    "# gptvsanno1_spearman = 3*gptvsanno1_spearman/len(oc)\n",
    "# gptvsanno2_spearman = 3*gptvsanno2_spearman/len(oc)\n",
    "# anno1vsanno2_spearman = 3*  anno1vsanno2_spearman/len(oc)\n",
    "# gptvsannomean = 3*gptvsannomean/len(oc)\n",
    "# print(\"GPT vs Anno1 Spearman: \",gptvsanno1_spearman)\n",
    "# print(\"GPT vs Anno2 Spearman: \",gptvsanno2_spearman)\n",
    "# print(\"Anno1 vs Anno2 Spearman: \",anno1vsanno2_spearman)\n",
    "# print(\"GPT vs AnnoMean Spearman: \",gptvsannomean)"
   ]
  },
  {
   "cell_type": "code",
   "execution_count": 5,
   "metadata": {},
   "outputs": [
    {
     "name": "stdout",
     "output_type": "stream",
     "text": [
      "GPT vs Anno1 Spearman:  0.513677536231884\n",
      "GPT vs Anno2 Spearman:  0.661141304347826\n",
      "Anno1 vs Anno2 Spearman:  0.5942028985507246\n",
      "GPT vs AnnoMean Spearman:  0.6347826086956522\n",
      "GPT average score:  [3.80072464 2.7826087  3.55072464 3.62681159 3.72101449]\n",
      "Anno1 average score:  [3.70289855 3.09782609 3.38405797 3.52898551 3.75362319]\n",
      "Anno2 average score:  [3.79347826 2.97463768 3.27898551 3.47101449 3.9057971 ]\n",
      "AnnoMean average score:  [3.74818841 3.03623188 3.33152174 3.5        3.82971014]\n"
     ]
    }
   ],
   "source": [
    "gptvsanno1_spearman = np.zeros(len(oc))\n",
    "gptvsanno2_spearman = np.zeros(len(oc))\n",
    "anno1vsanno2_spearman = np.zeros(len(oc))\n",
    "gptvsannomean_spearman = np.zeros(len(oc))\n",
    "gptscore = np.zeros(np.array(list(oc[0]['gpt4o_eval'].values())).shape)\n",
    "anno1score = np.zeros(np.array(list(oc[0]['gpt4o_eval'].values())).shape)\n",
    "anno2score = np.zeros(np.array(list(oc[0]['gpt4o_eval'].values())).shape)\n",
    "annomeanscore = np.zeros(np.array(list(oc[0]['gpt4o_eval'].values())).shape)\n",
    "\n",
    "badeval = []\n",
    "\n",
    "for i in range(len(oc)):\n",
    "    gpt4o_eval_rs = np.array(list(oc[i]['gpt4o_eval'].values()))\n",
    "    human_anno = np.array(list(oc[i]['human_anno'].values()))\n",
    "    \n",
    "    anno1 = human_anno[:,0]\n",
    "    anno2 = human_anno[:,1]\n",
    "    annomean = (anno1 + anno2)/2\n",
    "\n",
    "    gptscore += gpt4o_eval_rs\n",
    "    anno1score += anno1\n",
    "    anno2score += anno2\n",
    "    annomeanscore += annomean\n",
    "\n",
    "\n",
    "    gptvsanno1 = calculate_spearman_manual(gpt4o_eval_rs,anno1)\n",
    "    gptvsanno2 = calculate_spearman_manual(gpt4o_eval_rs,anno2)\n",
    "    anno1vsanno2 = calculate_spearman_manual(anno1,anno2)\n",
    "    gptvsannomean = calculate_spearman_manual(gpt4o_eval_rs,annomean)\n",
    "    \n",
    "    gptvsanno1_spearman[i] = gptvsanno1\n",
    "    gptvsanno2_spearman[i] = gptvsanno2\n",
    "    anno1vsanno2_spearman[i] = anno1vsanno2\n",
    "    gptvsannomean_spearman[i] = gptvsannomean\n",
    "\n",
    "    if gptvsannomean <0.3:\n",
    "        badeval.append(i)\n",
    "\n",
    "gptscore = gptscore/len(oc)\n",
    "anno1score = anno1score/len(oc)\n",
    "anno2score = anno2score/len(oc)\n",
    "annomeanscore = annomeanscore/len(oc)\n",
    "\n",
    "print(\"GPT vs Anno1 Spearman: \",gptvsanno1_spearman.mean())\n",
    "print(\"GPT vs Anno2 Spearman: \",gptvsanno2_spearman.mean())\n",
    "print(\"Anno1 vs Anno2 Spearman: \",anno1vsanno2_spearman.mean())\n",
    "print(\"GPT vs AnnoMean Spearman: \",gptvsannomean_spearman.mean())\n",
    "print(\"GPT average score: \",gptscore)\n",
    "print(\"Anno1 average score: \",anno1score)\n",
    "print(\"Anno2 average score: \",anno2score)\n",
    "print(\"AnnoMean average score: \",annomeanscore)"
   ]
  },
  {
   "cell_type": "code",
   "execution_count": 6,
   "metadata": {},
   "outputs": [],
   "source": [
    "from collections import Counter\n",
    "badeval_prompt = []\n",
    "for i in badeval:\n",
    "    # print(\"spearman\",gptvsannomean_spearman[i])\n",
    "# print(\"videos\",oc[i]['videos']['gen2'])\n",
    "    # print(\"prompt\",oc[i]['prompt_en'])\n",
    "    badeval_prompt.append(oc[i]['prompt_en'])\n",
    "    # print(\"GPT score\",oc[i]['gpt4o_eval'])\n",
    "    # print(\"Anno score\",oc[i]['human_anno'])\n",
    "    # print(\"GPT reasons\",gpt4o_eval_history[str(i)])"
   ]
  },
  {
   "cell_type": "code",
   "execution_count": 7,
   "metadata": {},
   "outputs": [],
   "source": [
    "conuter = Counter(badeval_prompt)\n",
    "repeated = {k:v for k,v in conuter.items() if v>1}"
   ]
  },
  {
   "cell_type": "code",
   "execution_count": 8,
   "metadata": {},
   "outputs": [
    {
     "name": "stdout",
     "output_type": "stream",
     "text": [
      "22\n",
      "{'An animated painting of fluffy white clouds moving in sky.': 2, 'A bigfoot walking in the snowstorm.': 2, 'Busy freeway at night.': 2, 'Sewing machine, old sewing machine working.': 3, 'Few big purple plums rotating on the turntable. water drops appear on the skin during rotation. isolated on the white background. close-up. macro.': 3, \"Cinematic shot of van gogh's selfie, van gogh style\": 2, 'A confused panda in calculus class': 2, 'A cute happy corgi playing in park, sunset': 2, 'A panda playing on a swing set': 2, 'An oil painting of a couple in formal evening wear going home get caught in a heavy downpour with umbrellas': 2}\n"
     ]
    }
   ],
   "source": [
    "print(sum(repeated.values()))\n",
    "print(repeated)\n",
    "with open('D:\\Astudying\\VideoEval\\HighlyHumanLikeVEB\\Human_anno\\BadEval4OverallConsistency.json','w') as f:\n",
    "    json.dump(repeated,f)"
   ]
  },
  {
   "cell_type": "code",
   "execution_count": 9,
   "metadata": {},
   "outputs": [
    {
     "data": {
      "text/plain": [
       "41"
      ]
     },
     "execution_count": 9,
     "metadata": {},
     "output_type": "execute_result"
    }
   ],
   "source": [
    "len(badeval)"
   ]
  },
  {
   "cell_type": "code",
   "execution_count": null,
   "metadata": {},
   "outputs": [],
   "source": []
  }
 ],
 "metadata": {
  "kernelspec": {
   "display_name": "base",
   "language": "python",
   "name": "python3"
  },
  "language_info": {
   "codemirror_mode": {
    "name": "ipython",
    "version": 3
   },
   "file_extension": ".py",
   "mimetype": "text/x-python",
   "name": "python",
   "nbconvert_exporter": "python",
   "pygments_lexer": "ipython3",
   "version": "3.9.19"
  }
 },
 "nbformat": 4,
 "nbformat_minor": 2
}
