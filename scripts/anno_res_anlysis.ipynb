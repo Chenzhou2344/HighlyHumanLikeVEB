{
 "cells": [
  {
   "cell_type": "code",
   "execution_count": 1,
   "metadata": {},
   "outputs": [],
   "source": [
    "import pandas as pd\n",
    "# anno_1 = '../Human_anno/humananno_res/lsy_scene.xlsx'\n",
    "# anno_2 = '../Human_anno/humananno_res/lsy_scene.xlsx'\n",
    "\n",
    "# anno_1oc =pd.read_excel(anno_1, usecols=['Model','scene'])\n",
    "# anno_2oc =pd.read_excel(anno_2, usecols=['Model','scene'])\n",
    "# anno_1oc = anno_1oc.astype(object).where(pd.notnull(anno_1oc), None)\n",
    "# anno_2oc = anno_2oc.astype(object).where(pd.notnull(anno_2oc), None)"
   ]
  },
  {
   "cell_type": "code",
   "execution_count": 2,
   "metadata": {},
   "outputs": [],
   "source": [
    "import numpy as np\n",
    "\n",
    "def rank_numbers(numbers):\n",
    "    sorted_indices = sorted(range(len(numbers)), key=lambda k: numbers[k], reverse=True)\n",
    "    ranks = [0] * len(numbers)\n",
    "\n",
    "    i = 0\n",
    "    while i < len(sorted_indices):\n",
    "        value_indices = [i]\n",
    "        while i + 1 < len(sorted_indices) and numbers[sorted_indices[i]] == numbers[sorted_indices[i + 1]]:\n",
    "            i += 1\n",
    "            value_indices.append(i)\n",
    "        average_rank = np.mean([index + 1 for index in value_indices])\n",
    "        for index in value_indices:\n",
    "            ranks[sorted_indices[index]] = average_rank\n",
    "        i += 1\n",
    "\n",
    "    return ranks\n",
    "\n",
    "def calculate_spearman_manual(values1, values2):\n",
    "    n = len(values1)\n",
    "    m = len(values2)\n",
    "    rank1 = rank_numbers(values1)\n",
    "    rank2 = rank_numbers(values2)\n",
    "    d = np.array(rank1) - np.array(rank2)\n",
    "    d_squared = np.square(d)\n",
    "    spearman_corr = 1 - (6 * np.sum(d_squared)) / (n * (n**2 - 1))\n",
    "    return spearman_corr"
   ]
  },
  {
   "cell_type": "code",
   "execution_count": 3,
   "metadata": {},
   "outputs": [],
   "source": [
    "dimension = 'color'"
   ]
  },
  {
   "cell_type": "code",
   "execution_count": 4,
   "metadata": {},
   "outputs": [],
   "source": [
    "import json\n",
    "jsonpath = '../Human_anno/{}.json'.format(dimension)\n",
    "with open(jsonpath,'r') as f:\n",
    "    oc = json.load(f)\n",
    "\n",
    "# history =\"../GPT4o_eval_results/{}_gpt4eval_results.json\".format(dimension)\n",
    "# with open(history,'r') as f:\n",
    "#     gpt4o_eval_history = json.load(f)"
   ]
  },
  {
   "cell_type": "code",
   "execution_count": 5,
   "metadata": {},
   "outputs": [],
   "source": [
    "# gptvsanno1_spearman = 0\n",
    "# gptvsanno2_spearman = 0\n",
    "# anno1vsanno2_spearman = 0\n",
    "# gptvsannomean = 0\n",
    "# badeval = []\n",
    "\n",
    "# for i in range(length):\n",
    "#     if i % 3 == 0:\n",
    "#         gpt4o_eval_rs = np.array(list(oc[i]['gpt4o_eval'].values()))\n",
    "#         human_anno = np.array(list(oc[i]['human_anno'].values()))\n",
    "#         anno1 = human_anno[:,0]\n",
    "#         anno2 = human_anno[:,1]\n",
    "#         annomean = (anno1 + anno2)/2\n",
    "#     else:\n",
    "#         gpt4o_eval_rs+= np.array(list(oc[i]['gpt4o_eval'].values()))\n",
    "#         human_anno = np.array(list(oc[i]['human_anno'].values()))\n",
    "#         anno1 += human_anno[:,0]\n",
    "#         anno2 += human_anno[:,1]\n",
    "#         annomean += (anno1 + anno2)/2\n",
    "\n",
    "#     if i % 3 == 2:\n",
    "#         gptvsanno1_spearman += calculate_spearman_manual(gpt4o_eval_rs,anno1)\n",
    "#         gptvsanno2_spearman += calculate_spearman_manual(gpt4o_eval_rs,anno2)\n",
    "#         anno1vsanno2_spearman += calculate_spearman_manual(anno1,anno2)\n",
    "#         gptvsannomean += calculate_spearman_manual(gpt4o_eval_rs,annomean)\n",
    "\n",
    "# gptvsanno1_spearman = 3*gptvsanno1_spearman/length\n",
    "# gptvsanno2_spearman = 3*gptvsanno2_spearman/length\n",
    "# anno1vsanno2_spearman = 3*  anno1vsanno2_spearman/length\n",
    "# gptvsannomean = 3*gptvsannomean/length\n",
    "# print(\"GPT vs Anno1 Spearman: \",gptvsanno1_spearman)\n",
    "# print(\"GPT vs Anno2 Spearman: \",gptvsanno2_spearman)\n",
    "# print(\"Anno1 vs Anno2 Spearman: \",anno1vsanno2_spearman)\n",
    "# print(\"GPT vs AnnoMean Spearman: \",gptvsannomean)"
   ]
  },
  {
   "cell_type": "code",
   "execution_count": 6,
   "metadata": {},
   "outputs": [],
   "source": [
    "models = ['cogvideox5b','gen3', 'kling','videocrafter2', 'pika', 'show1', 'lavie']\n",
    "# models = ['videocrafter2', 'pika', 'show1', 'lavie']\n",
    "# models = ['cogvideox5b','gen3', 'kling']\n",
    "idexls = []\n",
    "for i in range(0,len(oc)):\n",
    "    idexls.append(i)\n",
    "length = len(idexls)"
   ]
  },
  {
   "cell_type": "code",
   "execution_count": 7,
   "metadata": {},
   "outputs": [
    {
     "name": "stdout",
     "output_type": "stream",
     "text": [
      "GPT vs Anno1 Spearman:  0.6753851540616246\n",
      "GPT vs Anno2 Spearman:  0.6727941176470589\n",
      "Anno1 vs Anno2 Spearman:  0.8899159663865547\n",
      "GPT vs AnnoMean Spearman:  0.6684173669467787\n",
      "GPT average score:  [4.3372549  4.45490196 4.64313725 4.69411765 3.48627451 4.28235294\n",
      " 3.90588235]\n",
      "Anno1 average score:  [4.57647059 4.58431373 4.64705882 4.49019608 3.21960784 4.11372549\n",
      " 3.75686275]\n",
      "Anno2 average score:  [4.38039216 4.3254902  4.45098039 4.42352941 3.07843137 4.01176471\n",
      " 3.66666667]\n",
      "AnnoMean average score:  [4.47843137 4.45490196 4.54901961 4.45686275 3.14901961 4.0627451\n",
      " 3.71176471]\n"
     ]
    }
   ],
   "source": [
    "gptvsanno1_spearman = np.zeros(length)\n",
    "gptvsanno2_spearman = np.zeros(length)\n",
    "anno1vsanno2_spearman = np.zeros(length)\n",
    "gptvsannomean_spearman = np.zeros(length)\n",
    "baselinevsanno1_spearman = np.zeros(length)\n",
    "baselinevsanno2_spearman = np.zeros(length)\n",
    "baselinevsannomean_spearman = np.zeros(length)\n",
    "\n",
    "gptscore = np.zeros([len(models)])\n",
    "anno1score = np.zeros([len(models)])\n",
    "anno2score = np.zeros([len(models)])\n",
    "annomeanscore =np.zeros([len(models)])\n",
    "# baseline_rank = np.zeros([7])\n",
    "badeval = []\n",
    "\n",
    "for i in idexls:\n",
    "    gpt4o_eval_rs = np.array(list(oc[i]['gpt4o_eval'].values()))\n",
    "    human_anno = np.array(list(oc[i]['human_anno'].values()))\n",
    "    # baseline_rank = np.array(list(oc[i]['baseline_rank'].values())[3:])\n",
    "\n",
    "    anno1 = human_anno[:,0]\n",
    "    # anno2 = human_anno[:,1]\n",
    "    anno2 = human_anno[:,3]\n",
    "\n",
    "    # gpt4o_eval_rs[gpt4o_eval_rs == 4] = 5\n",
    "    # anno1[anno1 == 4] = 5\n",
    "    # anno2[anno2 == 4] = 5\n",
    "\n",
    "    annomean = (anno1 + anno2)/2\n",
    "\n",
    "\n",
    "    gptscore += gpt4o_eval_rs\n",
    "    anno1score += anno1\n",
    "    anno2score += anno2\n",
    "    annomeanscore += annomean\n",
    "\n",
    "\n",
    "    gptvsanno1 = calculate_spearman_manual(gpt4o_eval_rs,anno1)\n",
    "    gptvsanno2 = calculate_spearman_manual(gpt4o_eval_rs,anno2)\n",
    "    anno1vsanno2 = calculate_spearman_manual(anno1,anno2)\n",
    "    gptvsannomean = calculate_spearman_manual(gpt4o_eval_rs,annomean)\n",
    "    # baselinevsanno1 = calculate_spearman_manual(baseline_rank,anno1)\n",
    "    # baselinevsanno2 = calculate_spearman_manual(baseline_rank,anno2)\n",
    "    # baselinevsannomean = calculate_spearman_manual(baseline_rank,annomean)\n",
    "\n",
    "    # j = int((i-108)/3)\n",
    "    j = i\n",
    "    gptvsanno1_spearman[j] = gptvsanno1\n",
    "    gptvsanno2_spearman[j] = gptvsanno2\n",
    "    anno1vsanno2_spearman[j] = anno1vsanno2\n",
    "    gptvsannomean_spearman[j] = gptvsannomean\n",
    "    # baselinevsanno1_spearman[i] = baselinevsanno1\n",
    "    # baselinevsanno2_spearman[i] = baselinevsanno2\n",
    "    # baselinevsannomean_spearman[i] = baselinevsannomean\n",
    "\n",
    "    if gptvsanno2 <0.2:\n",
    "        badeval.append(i)\n",
    "\n",
    "gptscore = gptscore/length\n",
    "anno1score = anno1score/length\n",
    "anno2score = anno2score/length\n",
    "annomeanscore = annomeanscore/length\n",
    "\n",
    "print(\"GPT vs Anno1 Spearman: \",gptvsanno1_spearman.mean())\n",
    "print(\"GPT vs Anno2 Spearman: \",gptvsanno2_spearman.mean())\n",
    "print(\"Anno1 vs Anno2 Spearman: \",anno1vsanno2_spearman.mean())\n",
    "print(\"GPT vs AnnoMean Spearman: \",gptvsannomean_spearman.mean())\n",
    "# print(\"Baseline vs Anno1 Spearman: \",baselinevsanno1_spearman.mean())\n",
    "# print(\"Baseline vs Anno2 Spearman: \",baselinevsanno2_spearman.mean())\n",
    "# print(\"Baseline vs AnnoMean Spearman: \",baselinevsannomean_spearman.mean())\n",
    "\n",
    "\n",
    "print(\"GPT average score: \",gptscore)\n",
    "print(\"Anno1 average score: \",anno1score)\n",
    "print(\"Anno2 average score: \",anno2score)\n",
    "print(\"AnnoMean average score: \",annomeanscore)"
   ]
  },
  {
   "cell_type": "code",
   "execution_count": 8,
   "metadata": {},
   "outputs": [
    {
     "name": "stdout",
     "output_type": "stream",
     "text": [
      "1 55 A red bird 0.1339285714285714\n",
      "2 59 A green bird 0.1071428571428571\n",
      "0 135 A purple suitcase 0.1875\n",
      "0 198 A white chair 0.0714285714285714\n",
      "1 208 A blue clock 0.125\n",
      "2 218 A purple clock 0.1071428571428571\n",
      "2 233 A green vase 0.1964285714285714\n",
      "2 236 A blue vase 0.1964285714285714\n",
      "1 250 A black vase 0.1517857142857143\n"
     ]
    }
   ],
   "source": [
    "from collections import Counter\n",
    "badeval_prompt = []\n",
    "for i in badeval:\n",
    "    # print(\"spearman\",gptvsannomean_spearman[i])\n",
    "# print(\"videos\",oc[i]['videos']['gen2'])\n",
    "    # print(\"prompt\",oc[i]['prompt_en'])\n",
    "    badeval_prompt.append(oc[i]['prompt_en'])\n",
    "    print(i%3,i,oc[i]['prompt_en'],gptvsanno2_spearman[i])\n",
    "    # print(\"GPT score\",oc[i]['gpt4o_eval'])\n",
    "    # print(\"Anno score\",oc[i]['human_anno'])\n",
    "    # print(\"GPT reasons\",gpt4o_eval_history[str(i)])"
   ]
  },
  {
   "cell_type": "code",
   "execution_count": 9,
   "metadata": {},
   "outputs": [],
   "source": [
    "conuter = Counter(badeval_prompt)\n",
    "repeated = {k:v for k,v in conuter.items() if v>1}"
   ]
  },
  {
   "cell_type": "code",
   "execution_count": 10,
   "metadata": {},
   "outputs": [],
   "source": [
    "# print(sum(repeated.values()))\n",
    "# print(repeated)\n",
    "# with open('D:\\Astudying\\VideoEval\\HighlyHumanLikeVEB\\Human_anno\\BadEval4OverallConsistency.json','w') as f:\n",
    "#     json.dump(repeated,f,indent=4)"
   ]
  },
  {
   "cell_type": "code",
   "execution_count": null,
   "metadata": {},
   "outputs": [],
   "source": []
  }
 ],
 "metadata": {
  "kernelspec": {
   "display_name": "base",
   "language": "python",
   "name": "python3"
  },
  "language_info": {
   "codemirror_mode": {
    "name": "ipython",
    "version": 3
   },
   "file_extension": ".py",
   "mimetype": "text/x-python",
   "name": "python",
   "nbconvert_exporter": "python",
   "pygments_lexer": "ipython3",
   "version": "3.9.19"
  }
 },
 "nbformat": 4,
 "nbformat_minor": 2
}
