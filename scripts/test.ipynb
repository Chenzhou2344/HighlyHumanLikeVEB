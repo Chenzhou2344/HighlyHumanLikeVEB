{
 "cells": [
  {
   "cell_type": "code",
   "execution_count": 1,
   "metadata": {},
   "outputs": [],
   "source": [
    "# file_path = r\"D:\\Astudying\\VideoEval\\HighlyHumanLikeVEB\\GPT4o_eval_results\\overconsistency_gpt4o_eval.txt\"\n",
    "\n",
    "# with open(file_path, \"r\") as file:\n",
    "#     lines = file.readlines()\n",
    "\n",
    "# #format the output, remove the \\n at the end of each line\n",
    "# new_lines = [x for x in lines if x != \"\\n\"]\n",
    "\n",
    "# s = {}\n",
    "\n",
    "# for index in range(0,180):\n",
    "#     add = 0\n",
    "#     output = \"\"\n",
    "#     while(add<6):\n",
    "#         output += new_lines[index*6+add]\n",
    "#         add += 1\n",
    "#     s[str(index)] = output\n",
    "\n",
    "# import json\n",
    "\n",
    "# file_path = r\"D:\\Astudying\\VideoEval\\HighlyHumanLikeVEB\\GPT4o_eval_results\\overall_consistency_gpt4eval_results.json\"\n",
    "\n",
    "# with open(file_path, \"r\") as file:\n",
    "#     data = json.load(file)\n",
    "# for key in data.keys():\n",
    "#     data[key] = data[key].replace('\\n\\n','\\n')\n",
    "# ss = s|data\n",
    "# print(len(s.keys()))\n",
    "# # 使用 json 保存字典\n",
    "# with open(r\"D:\\Astudying\\VideoEval\\HighlyHumanLikeVEB\\GPT4o_eval_results\\overall_consistency_gpt4eval_results.json\", \"w\") as f:\n",
    "#     json.dump(ss, f,indent=4)"
   ]
  },
  {
   "cell_type": "code",
   "execution_count": 2,
   "metadata": {},
   "outputs": [],
   "source": [
    "import json\n",
    "import os\n",
    "\n",
    "file_path = r\"D:\\Astudying\\VideoEval\\HighlyHumanLikeVEB\\GPT4o_eval_results\\overall_consistency_gpt4eval_results.json\"\n",
    "with open(file_path, \"r\") as file:\n",
    "    data = json.load(file)\n",
    "\n",
    "video_path = r\"D:\\Astudying\\VideoEval\\HighlyHumanLikeVEB\\Human_anno\\overall_consistency.json\"\n",
    "with open(video_path, \"r\") as file:\n",
    "    annotations = json.load(file)\n"
   ]
  },
  {
   "cell_type": "code",
   "execution_count": 26,
   "metadata": {},
   "outputs": [],
   "source": [
    "for index,key in enumerate(data.keys()):       \n",
    "    for line in data[key].split('\\n'):\n",
    "        if line == '' or line[0] != '-':\n",
    "            continue\n",
    "        model_name = line.split(',')[0].split(' ')[1].split(':')[0].lower()\n",
    "        score = int(line.split(',')[0].split(' ')[2])\n",
    "        annotations[index]['gpt4o_eval'][model_name] = score"
   ]
  },
  {
   "cell_type": "code",
   "execution_count": 27,
   "metadata": {},
   "outputs": [],
   "source": [
    "w_json = r\"D:\\Astudying\\VideoEval\\HighlyHumanLikeVEB\\Human_anno\\overall_consistency_annotation.json\"\n",
    "with open(w_json, \"w\") as f:\n",
    "    json.dump(annotations, f,indent=4)"
   ]
  },
  {
   "cell_type": "code",
   "execution_count": null,
   "metadata": {},
   "outputs": [],
   "source": []
  }
 ],
 "metadata": {
  "kernelspec": {
   "display_name": "base",
   "language": "python",
   "name": "python3"
  },
  "language_info": {
   "codemirror_mode": {
    "name": "ipython",
    "version": 3
   },
   "file_extension": ".py",
   "mimetype": "text/x-python",
   "name": "python",
   "nbconvert_exporter": "python",
   "pygments_lexer": "ipython3",
   "version": "3.9.19"
  }
 },
 "nbformat": 4,
 "nbformat_minor": 2
}
