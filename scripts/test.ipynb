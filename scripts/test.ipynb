{
 "cells": [
  {
   "cell_type": "code",
   "execution_count": 1,
   "metadata": {},
   "outputs": [],
   "source": [
    "file_path = r\"D:\\Astudying\\VideoEval\\HighlyHumanLikeVEB\\GPT4o_eval_results\\overconsistency_gpt4o_eval.txt\"\n",
    "\n",
    "with open(file_path, \"r\") as file:\n",
    "    lines = file.readlines()\n",
    "\n",
    "#format the output, remove the \\n at the end of each line\n",
    "new_lines = [x for x in lines if x != \"\\n\"]\n",
    "\n",
    "s = {}\n",
    "\n",
    "for index in range(0,180):\n",
    "    add = 0\n",
    "    output = \"\"\n",
    "    while(add<6):\n",
    "        output += new_lines[index*6+add]\n",
    "        add += 1\n",
    "    s[str(index)] = output\n"
   ]
  },
  {
   "cell_type": "code",
   "execution_count": 2,
   "metadata": {},
   "outputs": [],
   "source": [
    "import json\n",
    "\n",
    "file_path = r\"D:\\Astudying\\VideoEval\\HighlyHumanLikeVEB\\GPT4o_eval_results\\overall_consistency_gpt4eval_results.json\"\n",
    "\n",
    "with open(file_path, \"r\") as file:\n",
    "    data = json.load(file)\n",
    "for key in data.keys():\n",
    "    data[key] = data[key].replace('\\n\\n','\\n')"
   ]
  },
  {
   "cell_type": "code",
   "execution_count": 3,
   "metadata": {},
   "outputs": [
    {
     "name": "stdout",
     "output_type": "stream",
     "text": [
      "180\n"
     ]
    }
   ],
   "source": [
    "ss = s|data\n",
    "print(len(s.keys()))\n",
    "# 使用 json 保存字典\n",
    "with open(r\"D:\\Astudying\\VideoEval\\HighlyHumanLikeVEB\\GPT4o_eval_results\\overall_consistency_gpt4eval_results.json\", \"w\") as f:\n",
    "    json.dump(ss, f,indent=4)"
   ]
  },
  {
   "cell_type": "code",
   "execution_count": null,
   "metadata": {},
   "outputs": [],
   "source": []
  }
 ],
 "metadata": {
  "kernelspec": {
   "display_name": "base",
   "language": "python",
   "name": "python3"
  },
  "language_info": {
   "codemirror_mode": {
    "name": "ipython",
    "version": 3
   },
   "file_extension": ".py",
   "mimetype": "text/x-python",
   "name": "python",
   "nbconvert_exporter": "python",
   "pygments_lexer": "ipython3",
   "version": "3.9.19"
  }
 },
 "nbformat": 4,
 "nbformat_minor": 2
}
