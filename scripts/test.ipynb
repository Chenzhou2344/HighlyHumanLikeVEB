{
 "cells": [
  {
   "cell_type": "code",
   "execution_count": 1,
   "metadata": {},
   "outputs": [],
   "source": [
    "# file_path = r\"D:\\Astudying\\VideoEval\\HighlyHumanLikeVEB\\GPT4o_eval_results\\overconsistency_gpt4o_eval.txt\"\n",
    "\n",
    "# with open(file_path, \"r\") as file:\n",
    "#     lines = file.readlines()\n",
    "\n",
    "# #format the output, remove the \\n at the end of each line\n",
    "# new_lines = [x for x in lines if x != \"\\n\"]\n",
    "\n",
    "# s = {}\n",
    "\n",
    "# for index in range(0,180):\n",
    "#     add = 0\n",
    "#     output = \"\"\n",
    "#     while(add<6):\n",
    "#         output += new_lines[index*6+add]\n",
    "#         add += 1\n",
    "#     s[str(index)] = output\n",
    "\n",
    "# import json\n",
    "\n",
    "# file_path = r\"D:\\Astudying\\VideoEval\\HighlyHumanLikeVEB\\GPT4o_eval_results\\overall_consistency_gpt4eval_results.json\"\n",
    "\n",
    "# with open(file_path, \"r\") as file:\n",
    "#     data = json.load(file)\n",
    "# for key in data.keys():\n",
    "#     data[key] = data[key].replace('\\n\\n','\\n')\n",
    "# ss = s|data\n",
    "# print(len(s.keys()))\n",
    "# # 使用 json 保存字典\n",
    "# with open(r\"D:\\Astudying\\VideoEval\\HighlyHumanLikeVEB\\GPT4o_eval_results\\overall_consistency_gpt4eval_results.json\", \"w\") as f:\n",
    "#     json.dump(ss, f,indent=4)"
   ]
  },
  {
   "cell_type": "code",
   "execution_count": 2,
   "metadata": {},
   "outputs": [],
   "source": [
    "#把gpt4o_eval的结果加入到annotation中\n",
    "import json\n",
    "import os\n",
    "\n",
    "models = ['gen2','lavie','pika','show1','videocrafter2']\n",
    "\n",
    "file_path = r\"D:\\Astudying\\VideoEval\\HighlyHumanLikeVEB\\GPT4o_eval_results\\overall_consistency_gpt4eval_results.json\"\n",
    "with open(file_path, \"r\") as file:\n",
    "    data = json.load(file)\n",
    "\n",
    "video_path = r\"D:\\Astudying\\VideoEval\\HighlyHumanLikeVEB\\Human_anno\\overall_consistency.json\"\n",
    "with open(video_path, \"r\") as file:\n",
    "    annotations = json.load(file)\n",
    "\n",
    "\n",
    "for index,key in enumerate(data.keys()):\n",
    "    for model in models:       \n",
    "        score = int(data[key][model].split(' ')[2][0])\n",
    "        annotations[index]['gpt4o_eval'][model] = score\n",
    "w_json = r\"D:\\Astudying\\VideoEval\\HighlyHumanLikeVEB\\Human_anno\\overall_consistency_annotation.json\"\n",
    "with open(w_json, \"w\") as f:\n",
    "    json.dump(annotations, f,indent=4)"
   ]
  },
  {
   "cell_type": "code",
   "execution_count": 3,
   "metadata": {},
   "outputs": [],
   "source": [
    "# 把人类标注数据写入json文件 来源anno_res_anlysis.ipynb\n",
    "# import json\n",
    "# jsonpath = 'D:\\Astudying\\VideoEval\\HighlyHumanLikeVEB\\Human_anno\\overall_consistency.json'\n",
    "# models = ['gen2','lavie','pika','show1','videocrafter2']\n",
    "# with open(jsonpath, 'r') as f:\n",
    "#     oc = json.load(f)\n",
    "# for i in range(0,len(oc)):\n",
    "#     startindex = 5*i\n",
    "#     endindex = 5*(i+1)\n",
    "#     for idnex in range(startindex,endindex):\n",
    "#         model = anno_1oc['Model'][idnex].lower()\n",
    "#         score1 = anno_1oc['overall_consistency'][idnex]\n",
    "#         score2 = anno_2oc['overall_consistency'][idnex]\n",
    "#         oc[i]['human_anno'][model] = [score1,score2]\n",
    "# with open(jsonpath, 'w') as f:\n",
    "#     json.dump(oc, f, indent=4)"
   ]
  }
 ],
 "metadata": {
  "kernelspec": {
   "display_name": "base",
   "language": "python",
   "name": "python3"
  },
  "language_info": {
   "codemirror_mode": {
    "name": "ipython",
    "version": 3
   },
   "file_extension": ".py",
   "mimetype": "text/x-python",
   "name": "python",
   "nbconvert_exporter": "python",
   "pygments_lexer": "ipython3",
   "version": "3.9.19"
  }
 },
 "nbformat": 4,
 "nbformat_minor": 2
}
