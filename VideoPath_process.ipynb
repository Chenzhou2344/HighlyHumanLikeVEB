{
 "cells": [
  {
   "cell_type": "code",
   "execution_count": null,
   "metadata": {},
   "outputs": [],
   "source": [
    "import os\n",
    "import json\n",
    "\n",
    "def collect_video_paths(folder_path):\n",
    "    video_extensions = ('.mp4', '.avi', '.mkv', '.mov', '.flv', '.wmv')\n",
    "    video_paths = []\n",
    "\n",
    "    for root, dirs, files in os.walk(folder_path):\n",
    "        for file in files:\n",
    "            if file.lower().endswith(video_extensions):\n",
    "                video_paths.append(os.path.join(root, file))\n",
    "\n",
    "    return video_paths\n",
    "\n",
    "def save_paths_to_json(paths, json_file):\n",
    "    with open(json_file, 'w', encoding='utf-8') as f:\n",
    "        json.dump(paths, f, ensure_ascii=False, indent=4)\n",
    "\n",
    "if __name__ == \"__main__\":\n",
    "    folder_path = \"你的文件夹路径\"  # 替换为你的文件夹路径\n",
    "    json_file = \"video_paths.json\"\n",
    "\n",
    "    video_paths = collect_video_paths(folder_path)\n",
    "    save_paths_to_json(video_paths, json_file)\n",
    "\n",
    "    print(f\"视频文件路径已保存到 {json_file}\")"
   ]
  }
 ],
 "metadata": {
  "kernelspec": {
   "display_name": "base",
   "language": "python",
   "name": "python3"
  },
  "language_info": {
   "name": "python",
   "version": "3.9.19"
  }
 },
 "nbformat": 4,
 "nbformat_minor": 2
}
