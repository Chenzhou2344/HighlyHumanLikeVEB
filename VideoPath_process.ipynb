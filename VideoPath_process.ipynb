{
 "cells": [
  {
   "cell_type": "code",
   "execution_count": 1,
   "metadata": {},
   "outputs": [],
   "source": [
    "import os\n",
    "prompt4dimension = []\n",
    "\n",
    "promptpath = r\"D:\\Astudying\\VideoEval\\HighlyHumanLikeVEB\\Prompts4dimensions\"\n",
    "for file in os.listdir(promptpath):\n",
    "    dimension = file.split(\".\")[0]\n",
    "    with open(os.path.join(promptpath, file), \"r\") as f:\n",
    "        promptlines = f.readlines()\n",
    "        for line in promptlines:\n",
    "            tmp ={'prompt': line.strip(), 'dimension': dimension}\n",
    "            prompt4dimension.append(tmp)"
   ]
  },
  {
   "cell_type": "code",
   "execution_count": 2,
   "metadata": {},
   "outputs": [],
   "source": [
    "import json\n",
    "\n",
    "# Define the file path\n",
    "json_file_path = 'HHLBench_full.json'\n",
    "\n",
    "# Create a dictionary to store the variables\n",
    "\n",
    "# Save the variables as JSON\n",
    "with open(json_file_path, 'w') as json_file:\n",
    "    json.dump(prompt4dimension, json_file, indent=4)"
   ]
  },
  {
   "cell_type": "code",
   "execution_count": 4,
   "metadata": {},
   "outputs": [
    {
     "name": "stdout",
     "output_type": "stream",
     "text": [
      "action\n",
      "color\n",
      "object_class\n",
      "overall_consistency\n",
      "scene\n"
     ]
    }
   ],
   "source": [
    "models = ['gen2','lavie','pika','show1','videocrfater2']\n",
    "dimension = [x.split(\".\")[0] for x in os.listdir(promptpath)]\n",
    "human_anno_path = r\"D:\\Astudying\\VideoEval\\HighlyHumanLikeVEB\\Human_anno\"\n",
    "\n",
    "with open(json_file_path, 'r') as f:\n",
    "    prompt4dimension = json.load(f)\n",
    "\n",
    "\n",
    "for dimension in dimension:\n",
    "    print(dimension)\n",
    "    jsonlist = []\n",
    "    video_path = {}\n",
    "\n",
    "    for prompt in prompt4dimension: \n",
    "        if prompt['dimension'] != dimension:\n",
    "              continue\n",
    "        else:\n",
    "            for videos4prompt in range(0,3):\n",
    "                meta_dict = {\n",
    "                            \"prompt_en\": \"prompt\",\n",
    "                            \"videos\": {},\n",
    "                            \"human_anno\": {}\n",
    "                            }\n",
    "                meta_dict['prompt_en'] = prompt['prompt']\n",
    "                for model in models:\n",
    "                    video_filename = f\"{model}/{dimension}/{prompt['prompt']}_{videos4prompt}.mp4\"\n",
    "                    meta_dict['videos'][model] = video_filename\n",
    "                    meta_dict['human_anno'][model] = 0\n",
    "                jsonlist.append(meta_dict)\n",
    "\n",
    "    json_file_path = os.path.join(human_anno_path, dimension+\".json\")\n",
    "    with open(json_file_path, 'w') as json_file:\n",
    "        json.dump(jsonlist, json_file, indent=4)"
   ]
  },
  {
   "cell_type": "code",
   "execution_count": null,
   "metadata": {},
   "outputs": [],
   "source": []
  }
 ],
 "metadata": {
  "kernelspec": {
   "display_name": "base",
   "language": "python",
   "name": "python3"
  },
  "language_info": {
   "codemirror_mode": {
    "name": "ipython",
    "version": 3
   },
   "file_extension": ".py",
   "mimetype": "text/x-python",
   "name": "python",
   "nbconvert_exporter": "python",
   "pygments_lexer": "ipython3",
   "version": "3.9.19"
  }
 },
 "nbformat": 4,
 "nbformat_minor": 2
}
